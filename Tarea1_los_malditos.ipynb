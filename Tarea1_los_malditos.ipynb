{
  "cells": [
    {
      "cell_type": "markdown",
      "metadata": {
        "id": "8r1aPHri9-tD"
      },
      "source": [
        "<center><img src=\"data:image/png;base64,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\" title=\"Title text\" /></center>\n",
        "\n",
        "\n",
        "\n",
        "<hr style=\"height:2px;border:none\"/>\n",
        "<h1 align='center'> INF-395/477/577 Redes Neuronales Artificiales - 2022-2 </h1>\n",
        "\n",
        "<H3 align='center'> Tarea 1  </H3>\n",
        "<hr style=\"height:2px;border:none\"/>\n",
        "\n",
        "**Temas**  \n",
        "* Manipulaciones en pandas y numpy, imputación de datos y preprocesamientos\n",
        "* Redes Densas Feed Forward\n",
        "* Regularización y Dropout\n",
        "* Vanishing Gradient\n",
        "* Learn Rate Decay\n",
        "* Optimizadores\n",
        "\n",
        "\n",
        "**Formalidades**  \n",
        "* Equipos de trabajo de 3 personas (*Los estudiantes deben estar preparados para presentar la tarea el día de la entrega*)\n",
        "* El entregable debe ser un _Jupyter Notebook_ incluyendo los códigos utilizados, los resultados, los gráficos realizados y comentarios. Debe seguir una estructura similar a un informe (se debe introducir los problemas a trabajar, presentar los resultados y discutirlos), se penalizará fuertemente ausencia de comentarios, explicaciones de gráficos, _etc_. Si lo prefiere puede entregar un _Jupyter Notebook_ por pregunta o uno por toda la tarea, con tal de que todos los entregables esten bien identificados y se encuentren en el mismo repositorio de _Github_.\n",
        "* Se debe preparar una presentación del trabajo realizado y sus hallazgos. El presentador será elegido aleatoriamente y deberá apoyarse en el _Jupyter Notebook_ que entregarán. \n",
        "* Formato de entrega: envı́o de link del repositorio en _Github_, al correo electrónico de los ayudantes (<maryon.morales@sansano.usm.cl>, <sebastian.sanchezl@sansano.usm.cl>), en copia al profesor (<cvalle@inf.utfsm.cl>). Especificar el siguiente asunto: [INF-395/477/577-2022-2 Tarea 1]. Invitar como colaborador a los usuarios de github \"ssanchezl\" y \"maryonmorales\" para poder acceder al repositorio en caso de ser privado.\n",
        "\n",
        "* Fecha de presentaciones 07 de Octubre, en horario de clases.\n",
        "* Fecha de entrega: 08 de Octubre. Hora límite de entrega: 12:00 p.m. Cualquier _commit_ luego de la hora límite no será evaluado. Se realizará descuento por atrasos en envío del mail igualmente.  \n",
        "\n",
        "<hr style=\"height:2px;border:none\"/>\n",
        "\n",
        "\n",
        "* 1 - Redes Feed Forward para predicción de diabetes.\n",
        "\n",
        "La tarea tiene ejemplos de códigos con los cuales pueden guiarse en gran parte, sin embargo, solo son guias y pueden ser creativos al momento de resolver la tarea. Soluciones creativas o elegantes serán valoradas. También en algunas ocaciones se hacen elecciones arbitrarias, ustedes pueden realizar otras elecciones con tal de que haya una pequeña justificación de por qué su elección es mejor o equivalente.\n",
        "Recuerden intercalar su código con *comentarios* en celdas _Markdown_, con los comentarios de la pregunta y con cualquier análisis, fórmula (en $ \\LaTeX $) o explicación que les parezca relevante para justificar sus procedimientos. *No respondan las preguntas en comentarios en el código*.\n",
        "Noten que en general cuando se les pide elegir algo o proponer algo no se evaluará tanto la elección en si. En cambio la argumentación detrás de la elección será lo más ponderado.\n",
        "Si algún modelo se demora demasiado en correr en su máquina, no olvide que puede correr _Jupyter Notebooks_ en _Collab_ de Google, incluso con la opción de aceleración con GPU (particularmente útil para los modelos más grandes), esto puede ser relevante para las máquinas más lentas al momento de realizar exploraciones con _K-folds_ o las redes más grandes. Existe también la posibilidad de utilizar _Google Cloud Plataform_ o _Amazon Web Service_, donde tienen máquinas aceleradas con GPU; maquinas ya configuradas para _deep leraning_ pueden encontrarse en el _Marketplace_ de cada proveedor de servicios."
      ]
    },
    {
      "cell_type": "markdown",
      "metadata": {
        "id": "GnyDQ-3kdlTZ"
      },
      "source": [
        "# 1 - Redes Feed Forward para predicción de diabetes\n",
        "\n",
        "De las redes neuronales artificiales más simples se encuentran las redes densas o Feed Forward, donde todas las neuronas de una capa estan conectadas a todos los inputs y envían su señal de activación a todas las neuronas de la siguiente capa. Estas redes, si bien son las más simples, suelen tener desempeños bastante buenos, y en muchas aplicaciones reales son utilizadas, ya sea por si solas o en combinación con otros modelos. Además, son las redes donde más facil se pueden observar muchos de los fenómenos que se han descubierto a lo largo de los años de desarrollo de esta area del conocimiento, tanto por ser de las redes vigentes más antiguas y por su estructura relativamente simple. En esta primera parte de la tarea exploraremos las redes densas y algunos de sus hiperparámetros más relevantes como la profundidad, el número de unidades; estudiaremos también algunos métodos de regularización y evidenciaremos el problema del vanishing gradient y el exploding gradient, viendo también algunos optimizadores existentes.\n",
        "\n",
        "Para realizar esto, utilizaremos una base de datos de variables médicas predictoras de la diabetes en mujeres y la variable objetivo (presencia o ausencia de diabetes), la cual se encuentra disponible en Kaggle, en la siguiente URL: https://www.kaggle.com/datasets/uciml/pima-indians-diabetes-database. Las variables predictoras incluyen el número de embarazos que ha tenido la paciente, su IMC, el nivel de insulina, la edad, entre otros. Nuesta tarea durante esta pregunta será predecir si la persona tiene o no de diabetes a partir de algunas de las otras variables presentes en el dataset. Para esto primero deberán explorar los atributos del dataset, imputar los valores que falten o eliminarlos en caso que estime conveniente, y luego preprocesar los datos de forma eficiente para que así puedan ser utilizados por una red neuronal. Una vez separados los datos de entrenamiento, validación y test, procederemos a entrenar diferentes modelos, comparandolos y evaluando sus desempeños."
      ]
    },
    {
      "cell_type": "markdown",
      "metadata": {
        "id": "ZvDv0hugEGi0"
      },
      "source": [
        "## 1.a Carga de datos y primeros análisis\n",
        "Para cargar los datos, puede descargarlos desde el link de Kaggle, o puede descargarlos desde su jupyter nootebok como muestra el código a continuación. Para obtener más información acerca de como descargar datasets directamente desde la API de Kaggle puede dirigirse a la documentación que se encuentra en el siguiente link: https://github.com/Kaggle/kaggle-api#download-dataset-files. Para usar la API de Kaggle dentro de Google Colab puede serle de utilidad el siguiente link: https://galhever.medium.com/how-to-import-data-from-kaggle-to-google-colab-8160caa11e2."
      ]
    },
    {
      "cell_type": "markdown",
      "metadata": {
        "id": "QtpxQvPnHr0L"
      },
      "source": [
        "Luego de descomprimir el archivo descargado cargue los datos en un *Dataframe* como muestra el código. Explore superficialmente los datos utilizando los metodos .head, .describe o .info del *Dataframe*."
      ]
    },
    {
      "cell_type": "code",
      "execution_count": null,
      "metadata": {
        "id": "avgT6Pg0H0gJ"
      },
      "outputs": [],
      "source": [
        "import pandas as pd\n",
        "\n",
        "df = pd.read_csv(\"diabetes.csv\")\n",
        "\n",
        "# . . ."
      ]
    },
    {
      "cell_type": "code",
      "execution_count": null,
      "metadata": {
        "colab": {
          "base_uri": "https://localhost:8080/"
        },
        "id": "EdZtYUlvx91m",
        "outputId": "73cb1327-4549-4754-f204-e981cae72626"
      },
      "outputs": [
        {
          "output_type": "execute_result",
          "data": {
            "text/plain": [
              "Index(['Pregnancies', 'Glucose', 'BloodPressure', 'SkinThickness', 'Insulin',\n",
              "       'BMI', 'DiabetesPedigreeFunction', 'Age', 'Outcome'],\n",
              "      dtype='object')"
            ]
          },
          "metadata": {},
          "execution_count": 2
        }
      ],
      "source": [
        "df.columns"
      ]
    },
    {
      "cell_type": "markdown",
      "metadata": {
        "id": "6IBqtnmtJPIF"
      },
      "source": [
        "Identifique y comente sobre las características de la variable objetivo (target) que sean relevantes para el problema. ¿Que puede decir acerca de la distribución de las clases?, ¿Están balanceadas? Explique usando gráficos que le parezcan pertinentes para representar el balance de clases. \n",
        "\n"
      ]
    },
    {
      "cell_type": "code",
      "execution_count": null,
      "metadata": {
        "colab": {
          "base_uri": "https://localhost:8080/",
          "height": 281
        },
        "id": "pItTJIUvPwuQ",
        "outputId": "8ffd7870-81fa-422b-ee3d-04365ab7d10d"
      },
      "outputs": [
        {
          "output_type": "display_data",
          "data": {
            "text/plain": [
              "<Figure size 432x288 with 1 Axes>"
            ],
            "image/png": "[encoded data removed]"
          },
          "metadata": {
            "needs_background": "light"
          }
        }
      ],
      "source": [
        "import matplotlib.pyplot as plt\n",
        "\n",
        "pos_diab = df[df['Outcome'] != 0]\n",
        "neg_diab = df[df['Outcome'] == 0]\n",
        "# print(pos_diab)\n",
        "plt.title(\"Conteo de la variable Outcome\")\n",
        "plt.hist(pos_diab[\"Outcome\"], label='Positivo')\n",
        "plt.hist(neg_diab[\"Outcome\"], label='Negativo')\n",
        "plt.legend()\n",
        "plt.show()\n",
        "\n",
        "# . . ."
      ]
    },
    {
      "cell_type": "markdown",
      "metadata": {
        "id": "5ihfw0xsPLW1"
      },
      "source": [
        "¿Qué puede observar de los datos, tiene sentido que algunos valores de ciertas variables predictoras tengan valor 0?, \n",
        "\n",
        "Identifique cuales son las columnas con datos faltantes que fueron imputadas con el valor 0. ¿Tiene sentido estos atributos tengan valores 0? Investigue el rango de valores que puede tomar cada atributo en el dataset, y comente sus principales características."
      ]
    },
    {
      "cell_type": "code",
      "source": [
        "df.dtypes"
      ],
      "metadata": {
        "colab": {
          "base_uri": "https://localhost:8080/"
        },
        "id": "Ot38waqVILQU",
        "outputId": "32f9874e-7000-4cd4-8b86-49b8af9160ce"
      },
      "execution_count": null,
      "outputs": [
        {
          "output_type": "execute_result",
          "data": {
            "text/plain": [
              "Pregnancies                   int64\n",
              "Glucose                       int64\n",
              "BloodPressure                 int64\n",
              "SkinThickness                 int64\n",
              "Insulin                       int64\n",
              "BMI                         float64\n",
              "DiabetesPedigreeFunction    float64\n",
              "Age                           int64\n",
              "Outcome                       int64\n",
              "dtype: object"
            ]
          },
          "metadata": {},
          "execution_count": 4
        }
      ]
    },
    {
      "cell_type": "code",
      "source": [
        "df.isna().sum()"
      ],
      "metadata": {
        "colab": {
          "base_uri": "https://localhost:8080/"
        },
        "id": "UdiO2cspINlG",
        "outputId": "04a7f391-2119-4359-d23a-cb83a81784b1"
      },
      "execution_count": null,
      "outputs": [
        {
          "output_type": "execute_result",
          "data": {
            "text/plain": [
              "Pregnancies                 0\n",
              "Glucose                     0\n",
              "BloodPressure               0\n",
              "SkinThickness               0\n",
              "Insulin                     0\n",
              "BMI                         0\n",
              "DiabetesPedigreeFunction    0\n",
              "Age                         0\n",
              "Outcome                     0\n",
              "dtype: int64"
            ]
          },
          "metadata": {},
          "execution_count": 5
        }
      ]
    },
    {
      "cell_type": "code",
      "source": [
        "count = (df['Glucose'] == 0).sum()\n",
        "print('Cuenta de 0 en GLucosa : ', count)\n",
        "count = (df['BloodPressure'] == 0).sum()\n",
        "print('Cuenta de 0 en BloodPressure : ', count)\n",
        "count = (df['SkinThickness'] == 0).sum()\n",
        "print('Cuenta de 0 en SkinThickness : ', count)\n",
        "count = (df['Insulin'] == 0).sum()\n",
        "print('Cuenta de 0 en Insulin : ', count)\n",
        "count = (df['BMI'] == 0).sum()\n",
        "print('Cuenta de 0 en BMI : ', count)"
      ],
      "metadata": {
        "colab": {
          "base_uri": "https://localhost:8080/"
        },
        "id": "degBXJSbIcPx",
        "outputId": "fa835074-cc6f-4730-b57f-18e2d5e772cc"
      },
      "execution_count": null,
      "outputs": [
        {
          "output_type": "stream",
          "name": "stdout",
          "text": [
            "Cuenta de 0 en GLucosa :  5\n",
            "Cuenta de 0 en BloodPressure :  35\n",
            "Cuenta de 0 en SkinThickness :  227\n",
            "Cuenta de 0 en Insulin :  374\n",
            "Cuenta de 0 en BMI :  11\n"
          ]
        }
      ]
    },
    {
      "cell_type": "markdown",
      "metadata": {
        "id": "YXqGF7raZTLo"
      },
      "source": [
        "## 1.b Train Test Split\n",
        "\n",
        "En esta pregunta nos ocuparemos de separar el dataset en los conjuntos de entrenamiento, validación y test y estandarizar los datos. Para esto puede utilizar la librería sklearn, en particular la función `train_test_split`. Para esto separe primero el dataset en  $X$  e  $Y$. Luego separe los datos considerando un  70%  de ellos para entrenamiento, un  20%  para validación y un  10%  para test. ¿Qué estamos tratando de representar en esta separación en conjuntos de entrenamiento, validación y test?"
      ]
    },
    {
      "cell_type": "code",
      "execution_count": null,
      "metadata": {
        "id": "ii8CDG9OJzYy"
      },
      "outputs": [],
      "source": [
        "from random import seed\n",
        "from sklearn.model_selection import train_test_split\n",
        "# . . . \n",
        "\n",
        "y = df['Outcome'].to_numpy(copy=True)\n",
        "X = df.drop(columns=['Outcome'])\n",
        "\n",
        "X_trf, X_test, y_trf, y_test = train_test_split(\n",
        "     X, y, test_size=0.10)\n",
        "\n",
        "X_tr, X_val, y_tr, y_val = train_test_split(\n",
        "     X_trf, y_trf, test_size=0.22)"
      ]
    },
    {
      "cell_type": "markdown",
      "source": [
        "- Respuesta: Tratamos de presentar conjuntos de datos incompletos con tal de entrenar el modelo haciendo una validacion cruzada entre los distintos sets"
      ],
      "metadata": {
        "id": "-ks-XCfIzi4P"
      }
    },
    {
      "cell_type": "markdown",
      "metadata": {
        "id": "GdEoLMJ1c38a"
      },
      "source": [
        "## 1.c Valores faltantes e imputación\n",
        "\n",
        "Tomando en cuenta solamente el conjunto de entrenamiento, considere los valores imputados con 0 que encontró en la pregunta 1.a y reemplacelos por `NaN`, para esto utilice el método `replace`. Cuente cuantos datos faltantes hay por cada atributo y grafíque. Cree 3 conjuntos de entrenamiento nuevos a partir del resultado de reemplazar con `NaN`:\n",
        "\n",
        "1.   Conserve el conjunto de entrenamiento original intacto: $X_o$\n",
        "2.   Reemplace los valores faltantes de cada columna por la media de estos: $X_1$\n",
        "3.   Reemplace los valores faltantes de cada columna por la mediana de estos: $X_2$\n",
        "4.   Reemplace los valores faltantes de cada columna utilizando el método MICE [1][2]: $X_3$\n",
        "\n",
        "Responda las siguientes preguntas:\n",
        "\n",
        "*   ¿Qué es la imputación de datos?\n",
        "- **Respuesta**: Cuando se tienen datos faltantes en un set y se procede a rellenar estos con algun método\n",
        "*   ¿Cuáles son las ventajas y desventajas de los 3 métodos recién utilizados versus sin imputar ($X_o$)?\n",
        "- **Respuesta**: Al imputar datos se cuenta con una mayor cantidad de informacion con la cual hacer validaciones, clara ventaja de los 3 metodos. Sin embargo, el metodo de input debe ser elegido cuidadosamente para no perjudicar el modelo.\n",
        "*   ¿Qué se necesita para ejecutar cada uno de los 3 métodos de imputación de datos?\n",
        "- **Respuesta**: Se necesita que el set sea modificable en sus valores y admita inputs sin afectar al conjunto de validacion\n",
        "*   ¿Qué puede decir de los conjuntos resultantes?¿Resuelven el problema de los datos faltantes?\n",
        "- **Respuesta**: Lo resulven bastante bien basandonos en los resultados obtenidos abajo\n",
        "\n",
        "\n",
        "\n",
        "\n",
        "[1] https://citeseerx.ist.psu.edu/viewdoc/download?doi=10.1.1.169.5745&rep=rep1&type=pdf\n",
        "\n",
        "[2] https://scikit-learn.org/stable/modules/generated/sklearn.impute.IterativeImputer.html?highlight=mice\n",
        "\n",
        "\n"
      ]
    },
    {
      "cell_type": "code",
      "execution_count": null,
      "metadata": {
        "colab": {
          "base_uri": "https://localhost:8080/"
        },
        "id": "4MCLuHEzhEHI",
        "outputId": "bd36f45a-e717-4cfa-a63e-fdffe608e265"
      },
      "outputs": [
        {
          "output_type": "stream",
          "name": "stdout",
          "text": [
            "[IterativeImputer] Completing matrix with shape (538, 8)\n",
            "[IterativeImputer] Ending imputation round 1/30, elapsed time 0.01\n",
            "[IterativeImputer] Change: 182.0028087927056, scaled tolerance: 6.8e-08 \n",
            "[IterativeImputer] Ending imputation round 2/30, elapsed time 0.03\n",
            "[IterativeImputer] Change: 5.923270335430885, scaled tolerance: 6.8e-08 \n",
            "[IterativeImputer] Ending imputation round 3/30, elapsed time 0.04\n",
            "[IterativeImputer] Change: 2.57216692448101, scaled tolerance: 6.8e-08 \n",
            "[IterativeImputer] Ending imputation round 4/30, elapsed time 0.05\n",
            "[IterativeImputer] Change: 1.2473620041049074, scaled tolerance: 6.8e-08 \n",
            "[IterativeImputer] Ending imputation round 5/30, elapsed time 0.06\n",
            "[IterativeImputer] Change: 0.6049285205441493, scaled tolerance: 6.8e-08 \n",
            "[IterativeImputer] Ending imputation round 6/30, elapsed time 0.07\n",
            "[IterativeImputer] Change: 0.2933639901116756, scaled tolerance: 6.8e-08 \n",
            "[IterativeImputer] Ending imputation round 7/30, elapsed time 0.08\n",
            "[IterativeImputer] Change: 0.14226545304595462, scaled tolerance: 6.8e-08 \n",
            "[IterativeImputer] Ending imputation round 8/30, elapsed time 0.09\n",
            "[IterativeImputer] Change: 0.06898950718640862, scaled tolerance: 6.8e-08 \n",
            "[IterativeImputer] Ending imputation round 9/30, elapsed time 0.10\n",
            "[IterativeImputer] Change: 0.03345482627118912, scaled tolerance: 6.8e-08 \n",
            "[IterativeImputer] Ending imputation round 10/30, elapsed time 0.11\n",
            "[IterativeImputer] Change: 0.016222874810939203, scaled tolerance: 6.8e-08 \n",
            "[IterativeImputer] Ending imputation round 11/30, elapsed time 0.12\n",
            "[IterativeImputer] Change: 0.007866674920965266, scaled tolerance: 6.8e-08 \n",
            "[IterativeImputer] Ending imputation round 12/30, elapsed time 0.13\n",
            "[IterativeImputer] Change: 0.0038146075204323893, scaled tolerance: 6.8e-08 \n",
            "[IterativeImputer] Ending imputation round 13/30, elapsed time 0.14\n",
            "[IterativeImputer] Change: 0.001849713993522073, scaled tolerance: 6.8e-08 \n",
            "[IterativeImputer] Ending imputation round 14/30, elapsed time 0.15\n",
            "[IterativeImputer] Change: 0.0008969248342438618, scaled tolerance: 6.8e-08 \n",
            "[IterativeImputer] Ending imputation round 15/30, elapsed time 0.16\n",
            "[IterativeImputer] Change: 0.000434915454231799, scaled tolerance: 6.8e-08 \n",
            "[IterativeImputer] Ending imputation round 16/30, elapsed time 0.17\n",
            "[IterativeImputer] Change: 0.00021088779506683863, scaled tolerance: 6.8e-08 \n",
            "[IterativeImputer] Ending imputation round 17/30, elapsed time 0.18\n",
            "[IterativeImputer] Change: 0.00010225776138028664, scaled tolerance: 6.8e-08 \n",
            "[IterativeImputer] Ending imputation round 18/30, elapsed time 0.19\n",
            "[IterativeImputer] Change: 4.958378710995248e-05, scaled tolerance: 6.8e-08 \n",
            "[IterativeImputer] Ending imputation round 19/30, elapsed time 0.21\n",
            "[IterativeImputer] Change: 2.4042630382581365e-05, scaled tolerance: 6.8e-08 \n",
            "[IterativeImputer] Ending imputation round 20/30, elapsed time 0.22\n",
            "[IterativeImputer] Change: 1.1657982057045047e-05, scaled tolerance: 6.8e-08 \n",
            "[IterativeImputer] Ending imputation round 21/30, elapsed time 0.23\n",
            "[IterativeImputer] Change: 5.652806269296207e-06, scaled tolerance: 6.8e-08 \n",
            "[IterativeImputer] Ending imputation round 22/30, elapsed time 0.24\n",
            "[IterativeImputer] Change: 2.7409703555747456e-06, scaled tolerance: 6.8e-08 \n",
            "[IterativeImputer] Ending imputation round 23/30, elapsed time 0.25\n",
            "[IterativeImputer] Change: 1.32905852368026e-06, scaled tolerance: 6.8e-08 \n",
            "[IterativeImputer] Ending imputation round 24/30, elapsed time 0.26\n",
            "[IterativeImputer] Change: 6.444420215245827e-07, scaled tolerance: 6.8e-08 \n",
            "[IterativeImputer] Ending imputation round 25/30, elapsed time 0.27\n",
            "[IterativeImputer] Change: 3.1248067955402803e-07, scaled tolerance: 6.8e-08 \n",
            "[IterativeImputer] Ending imputation round 26/30, elapsed time 0.28\n",
            "[IterativeImputer] Change: 1.5151742971397653e-07, scaled tolerance: 6.8e-08 \n",
            "[IterativeImputer] Ending imputation round 27/30, elapsed time 0.29\n",
            "[IterativeImputer] Change: 7.346853436729361e-08, scaled tolerance: 6.8e-08 \n",
            "[IterativeImputer] Ending imputation round 28/30, elapsed time 0.30\n",
            "[IterativeImputer] Change: 3.5623941130324965e-08, scaled tolerance: 6.8e-08 \n",
            "[IterativeImputer] Early stopping criterion reached.\n"
          ]
        }
      ],
      "source": [
        "import numpy as np\n",
        "# explicitly require this experimental feature\n",
        "from sklearn.experimental import enable_iterative_imputer  #noqa\n",
        "# now you can import normally from sklearn.impute\n",
        "from sklearn.impute import IterativeImputer\n",
        "from sklearn.linear_model import LinearRegression\n",
        "X1 = X_tr.mean()\n",
        "X2 = X_tr.median()\n",
        "\n",
        "X_tr[['Glucose','BloodPressure','SkinThickness','Insulin','BMI']] = X_tr[['Glucose',\n",
        "'BloodPressure','SkinThickness','Insulin','BMI']].replace(0,np.NaN)\n",
        "\n",
        "X_tr1 = X_tr.copy()\n",
        "X_tr2 = X_tr.copy()\n",
        "\n",
        "\n",
        "X_tr1[['Glucose','BloodPressure','SkinThickness','Insulin','BMI']] = X_tr1[['Glucose',\n",
        "'BloodPressure','SkinThickness','Insulin','BMI']].replace(np.NaN,X1)\n",
        "\n",
        "X_tr2[['Glucose','BloodPressure','SkinThickness','Insulin','BMI']] = X_tr2[['Glucose',\n",
        "'BloodPressure','SkinThickness','Insulin','BMI']].replace(np.NaN,X2)\n",
        "\n",
        "lr = LinearRegression()\n",
        "X_tr3 = IterativeImputer(estimator = lr, tol=1e-10,max_iter=30, verbose=2, imputation_order='ascending').fit_transform(X_tr)\n",
        "\n",
        "# imp_mean.transform(X_tr)\n"
      ]
    },
    {
      "cell_type": "markdown",
      "metadata": {
        "id": "IFrGNkhQlY8v"
      },
      "source": [
        "## 1.d Estandarización\n",
        "\n",
        "`Nota:` A menos que se indique explícitamente lo contrario, en esta y las siguientes preguntas realice los siguientes procedimientos y entrene las redes considerando como conjunto de entrenamiento cada $X \\in \\{X_o, X_1, X_2, X_3\\}$ obtenido en la imputación anterior y comente las diferencias que observa en los desempeños de sus redes.\n",
        "\n",
        "Ajuste los scalers con los datos de entrenamiento y transforme los datos para cada conjunto obtenido en la pregunta anterior.\n",
        "\n",
        "- ¿Qué operación matemática realiza `StandarScaler` al momento de tranformar los datos? \n",
        "- ¿Por qué debemos transformar los datos de validación y de test con el _scaler_ ajustado a los datos de entrenamiento? "
      ]
    },
    {
      "cell_type": "code",
      "execution_count": null,
      "metadata": {
        "id": "3hcDWUA5le7u",
        "colab": {
          "base_uri": "https://localhost:8080/"
        },
        "outputId": "ce47f260-392d-44ba-e983-29727e17a36e"
      },
      "outputs": [
        {
          "output_type": "stream",
          "name": "stderr",
          "text": [
            "/usr/local/lib/python3.7/dist-packages/sklearn/base.py:451: UserWarning: X does not have valid feature names, but StandardScaler was fitted with feature names\n",
            "  \"X does not have valid feature names, but\"\n"
          ]
        }
      ],
      "source": [
        "from sklearn.preprocessing import StandardScaler\n",
        "\n",
        "scaler_xo = StandardScaler()\n",
        "scaler_xo.fit(X_tr)\n",
        "\n",
        "x_tr_0 = scaler_xo.transform(X_tr)\n",
        "x_val_0 = scaler_xo.transform(X_val)\n",
        "\n",
        "scaler_x1 = StandardScaler()\n",
        "scaler_x1.fit(X_tr)\n",
        "x_tr_1 = scaler_x1.transform(X_tr2)\n",
        "x_val_1 = scaler_x1.transform(X_val)\n",
        "\n",
        "scaler_x2 = StandardScaler()\n",
        "scaler_x2.fit(X_tr)\n",
        "x_tr_2 = scaler_x2.transform(X_tr2)\n",
        "x_val_2 = scaler_x2.transform(X_val)\n",
        "\n",
        "scaler_x3 = StandardScaler()\n",
        "scaler_x3.fit(X_tr)\n",
        "x_tr_3 = scaler_x3.transform(X_tr3)\n",
        "x_val_3 = scaler_x3.transform(X_val)\n",
        "# . . ."
      ]
    },
    {
      "cell_type": "markdown",
      "source": [
        "**Respuesta:**\n",
        "\n",
        "Como hemos obsertvado el estandarizar la data se transforma utiklizando la media y desviacion estandar de la columna,como se observa a continuación.\n",
        "\n",
        "*   `StandardScaler` : $x_{std}=\\frac{x-μ_x}{σ_x} \\hspace{1cm} x \\in [a, b]$"
      ],
      "metadata": {
        "id": "9f-xbB-WJGho"
      }
    },
    {
      "cell_type": "markdown",
      "source": [
        "**Respuesta:**\n",
        "\n",
        "Es importante despues utilizar los mismos valores de media y desviacion para el caso de training aplicar estos de igual forma para al conjunto de testing, para asi llevar a cabo la misma transformacion. además si es que estandarizamos utilizando los valores de testing seria hacer trampa y sobreajuste ya que estamos observando y modelando a partir de la data de testing"
      ],
      "metadata": {
        "id": "Y_xelIKPyrjP"
      }
    },
    {
      "cell_type": "markdown",
      "metadata": {
        "id": "NXSQWk9Ovv-3"
      },
      "source": [
        "## 1.e Primera Red\n",
        "En esta pregunta construiremos y entrenaremos una primera red neuronal. Para esto utilizaremos la librería keras que se ocupa de crear, compilar y entrenar los modelos de manera simple. Keras se encargará por lo tanto de crear los modelos y al momento de compilarlos se instanciarán estos en una sesión de TensorFlow. \n",
        "\n",
        "Esta primera red será una red de una capa oculta con $256$ neuronas, activación ReLu. Para esta red y todas las demas utilizaremos la función de pérdida _Binary Cross Entropy_ ¿Porqué se ocupa esta función de pérdida?¿Qué función de activación se utiliza para la capa de salida en este tipo de problemas?¿Cuántas neuronas para la capa de salida?. Para entrenar esta primera red utilizaremos Gradiente Descendente Estocástico con un _Learn Rate_ de 0.002. Finalmente entrenaremos esta red por unas 20 _epochs_.\n",
        "\n",
        "Construya la red basandose en el siguiente código y en la documentación de keras. "
      ]
    },
    {
      "cell_type": "markdown",
      "source": [
        " **¿Porqué se ocupa esta función de pérdida?**\n",
        " Porque nuestro modelo se basa en una clasificacion de dos clases, por lo que es util medir la perdida asi.\n",
        " \n",
        " **¿Qué función de activación se utiliza para la capa de salida en este tipo de problemas?**\n",
        "  Existe una gran cantidad de funciones de activaciones viables para este problema, tales como, relu, tabh, sigmoide, etc. Dado esto es necesario observar las diferentes funciones y como se relacionan directamente con algun score.\n",
        " \n",
        " **¿Cuántas neuronas para la capa de salida?**\n",
        "\n",
        " Depende de que funcion de activacion ocuparemos para esta salidad, por ejemplo, si es una sigmoide, sera solo una neurona mientras que con una softmax seran dos neuronas (Ya que tenemos dos clases), representando la probabilidad de cada una de las predicciones disponibles."
      ],
      "metadata": {
        "id": "lpjT3lvp51s0"
      }
    },
    {
      "cell_type": "code",
      "execution_count": null,
      "metadata": {
        "id": "pKXWgcNQwZ8f"
      },
      "outputs": [],
      "source": [
        "\n",
        "from keras.models import Sequential\n",
        "from keras.layers import Dense\n",
        "import tensorflow as tf\n",
        "from tensorflow.keras import layers\n",
        "from tensorflow.keras import activations\n",
        "import pandas as pd\n",
        "import numpy as np\n",
        "\n",
        "import matplotlib.pyplot as plt\n",
        "import seaborn as sns\n",
        "import networkx as nx\n",
        "import pylab as plt\n",
        "\n",
        "from sklearn.preprocessing import PolynomialFeatures\n",
        "from sklearn.model_selection import train_test_split\n",
        "from sklearn.preprocessing import StandardScaler\n",
        "from sklearn.preprocessing import LabelEncoder\n",
        "from sklearn.feature_selection import SelectKBest\n",
        "from sklearn.feature_selection import mutual_info_classif\n",
        "\n",
        "from sklearn.preprocessing import StandardScaler\n",
        "from sklearn.decomposition import PCA\n",
        "from sklearn.manifold import TSNE\n",
        "\n",
        "from sklearn.model_selection import KFold\n",
        "from sklearn.neighbors import KNeighborsClassifier\n",
        "from sklearn.model_selection import cross_val_score \n",
        "from sklearn.model_selection import train_test_split\n",
        "from sklearn.model_selection import RandomizedSearchCV\n",
        "from sklearn.preprocessing import StandardScaler\n",
        "\n",
        "from sklearn.preprocessing import LabelEncoder\n",
        "from sklearn.preprocessing import OrdinalEncoder\n",
        "from sklearn.tree import DecisionTreeClassifier\n",
        "from sklearn.tree import DecisionTreeRegressor\n",
        "from sklearn.metrics import confusion_matrix\n",
        "from sklearn.metrics import ConfusionMatrixDisplay\n",
        "from sklearn.metrics import accuracy_score\n",
        "from sklearn.metrics import roc_auc_score\n",
        "from sklearn.metrics import precision_score\n",
        "from sklearn.metrics import recall_score\n",
        "from sklearn.metrics import f1_score\n",
        "from sklearn.svm import LinearSVC\n",
        "from sklearn.svm import SVC\n",
        "from sklearn.svm import SVR\n",
        "from sklearn.calibration import CalibratedClassifierCV\n",
        "from sklearn.datasets import make_hastie_10_2\n",
        "from sklearn.ensemble import GradientBoostingClassifier\n",
        "from sklearn.inspection import PartialDependenceDisplay\n",
        "from sklearn.cluster import KMeans\n",
        "from scipy import stats\n",
        "\n",
        "import zipfile\n",
        "import os\n",
        "# from keras.preprocessing.image import load_img, ImageDataGenerator\n",
        "import tensorflow as tf\n",
        "\n",
        "\n",
        "from tensorflow.keras.optimizers import SGD\n",
        "from keras.models import Sequential\n",
        "from keras.layers import Dense\n",
        "\n",
        "model1 = Sequential()\n",
        "# Hidden Layer\n",
        "model1.add(\n",
        "    Dense(\n",
        "        units = 256,\n",
        "        activation = 'relu'\n",
        "    )\n",
        ")\n",
        "# Output Layer\n",
        "model1.add(\n",
        "    Dense(\n",
        "       units = 1,\n",
        "       activation= \"sigmoid\"\n",
        "    )\n",
        ")\n",
        "model1.compile(\n",
        "tf.keras.optimizers.SGD(\n",
        "    learning_rate=0.002),\n",
        "    loss='binary_crossentropy')\n",
        "history0 = model1.fit( x_tr_1, y_tr, epochs=20, batch_size=100,verbose=0,validation_data=(x_val_1, y_val),)\n",
        "\n",
        "# . . ."
      ]
    },
    {
      "cell_type": "code",
      "execution_count": null,
      "metadata": {
        "id": "ZF8vRGl9x91q"
      },
      "outputs": [],
      "source": [
        "def calc_metrics(y_test, y_pred,):\n",
        "    acc = accuracy_score(y_test, y_pred, normalize=True)\n",
        "    macro_prec = precision_score(y_test, y_pred, average='macro')\n",
        "    macro_rec = recall_score(y_test, y_pred, average='macro')\n",
        "    macro_f1 = f1_score(y_test, y_pred, average='macro')\n",
        "    return acc, macro_prec, macro_rec, macro_f1"
      ]
    },
    {
      "cell_type": "markdown",
      "metadata": {
        "id": "qIyGBE4xMFis"
      },
      "source": [
        "Utilice el método `.summary` para ver el número de parámetros de su red y los tamaños de cada capa. \n",
        "\n",
        "Explique el número de parámetros presentes en esta red, es decir: ¿Cómo a partir de la dimensión del _Input_ y el número de neuronas obtenemos ese número de parámetros?"
      ]
    },
    {
      "cell_type": "code",
      "execution_count": null,
      "metadata": {
        "colab": {
          "base_uri": "https://localhost:8080/"
        },
        "id": "obOh3pHuPQ5g",
        "outputId": "7e871d57-4950-4430-821f-b966d5f7f381"
      },
      "outputs": [
        {
          "output_type": "stream",
          "name": "stdout",
          "text": [
            "Model: \"sequential_1\"\n",
            "_________________________________________________________________\n",
            " Layer (type)                Output Shape              Param #   \n",
            "=================================================================\n",
            " dense_2 (Dense)             (None, 256)               2304      \n",
            "                                                                 \n",
            " dense_3 (Dense)             (None, 1)                 257       \n",
            "                                                                 \n",
            "=================================================================\n",
            "Total params: 2,561\n",
            "Trainable params: 2,561\n",
            "Non-trainable params: 0\n",
            "_________________________________________________________________\n"
          ]
        }
      ],
      "source": [
        "model1.summary()"
      ]
    },
    {
      "cell_type": "markdown",
      "metadata": {
        "id": "XCB8gKjyPVQo"
      },
      "source": [
        "Entrene la red por 20 _epochs_, guardando el `history` que retorna el metodo `.fit`.\n",
        "\n",
        "Grafique como varian los errores de validación y de entrenamiento a lo largo de las _epochs_. Comente."
      ]
    },
    {
      "cell_type": "code",
      "execution_count": null,
      "metadata": {
        "id": "nVGWtAjBkwXU"
      },
      "outputs": [],
      "source": [
        "from keras.callbacks import TerminateOnNaN\n",
        "\n",
        "# . . . \n",
        "\n",
        "# history1 = model1.fit( x_tr_0, y_tr, epochs=20, batch_size=100,validation_data=(x_val_0, y_val),)\n",
        "history2 = model1.fit( x_tr_1, y_tr, epochs=20, batch_size=100,verbose=0,validation_data=(x_val_1, y_val),)\n"
      ]
    },
    {
      "cell_type": "markdown",
      "metadata": {
        "id": "M9ulYpp-kwXV"
      },
      "source": [
        "**Primera red, imputaciones media**\n"
      ]
    },
    {
      "cell_type": "code",
      "execution_count": null,
      "metadata": {
        "colab": {
          "base_uri": "https://localhost:8080/",
          "height": 297
        },
        "id": "pIJ--MJnkwXV",
        "outputId": "552e6954-3721-4e10-cb63-90ecd24a89b1"
      },
      "outputs": [
        {
          "output_type": "display_data",
          "data": {
            "text/plain": [
              "<Figure size 432x288 with 1 Axes>"
            ],
            "image/png": "[encoded data removed]"
          },
          "metadata": {
            "needs_background": "light"
          }
        }
      ],
      "source": [
        "plt.plot(range(0,20), history2.history['loss'])\n",
        "plt.xlabel(\"Época\")\n",
        "plt.ylabel(\"Loss\")\n",
        "plt.title(\"Loss Train\")\n",
        "plt.show()"
      ]
    },
    {
      "cell_type": "code",
      "execution_count": null,
      "metadata": {
        "colab": {
          "base_uri": "https://localhost:8080/",
          "height": 297
        },
        "id": "yFarROsnkwXV",
        "outputId": "6e26af3d-8c87-4416-9b85-ae53fb5bb1bc"
      },
      "outputs": [
        {
          "output_type": "display_data",
          "data": {
            "text/plain": [
              "<Figure size 432x288 with 1 Axes>"
            ],
            "image/png": "[encoded data removed]"
          },
          "metadata": {
            "needs_background": "light"
          }
        }
      ],
      "source": [
        "plt.plot(range(0,20), history2.history['val_loss'])\n",
        "plt.xlabel(\"Época\")\n",
        "plt.ylabel(\"Loss\")\n",
        "plt.title(\"Val_Loss Train\")\n",
        "plt.show()"
      ]
    },
    {
      "cell_type": "code",
      "execution_count": null,
      "metadata": {
        "colab": {
          "base_uri": "https://localhost:8080/"
        },
        "id": "jk9J16gbkwXW",
        "outputId": "778aa68b-3626-4ab7-b2e7-286b99236b31"
      },
      "outputs": [
        {
          "output_type": "stream",
          "name": "stdout",
          "text": [
            "score: (0.6797385620915033, 0.6574612403100775, 0.5904452690166976, 0.5819439023030167)\n"
          ]
        }
      ],
      "source": [
        "predictions = model1.predict(x_val_1)\n",
        "# print((predictions))\n",
        "model_predictions = [0 if i < 0.5 else 1 for i in predictions]\n",
        "print(\"score:\", calc_metrics(y_val, model_predictions))"
      ]
    },
    {
      "cell_type": "markdown",
      "metadata": {
        "id": "hQCBvpqRkwXW"
      },
      "source": [
        "**Segunda red, imputaciones mediana**\n"
      ]
    },
    {
      "cell_type": "code",
      "execution_count": null,
      "metadata": {
        "id": "eBdp-puMkwXW"
      },
      "outputs": [],
      "source": [
        "model2 = Sequential()\n",
        "# Hidden Layer\n",
        "model2.add(\n",
        "    Dense(\n",
        "        units = 256,\n",
        "        activation = 'relu'\n",
        "    )\n",
        ")\n",
        "# Output Layer\n",
        "model2.add(\n",
        "    Dense(\n",
        "       units = 1,\n",
        "       activation= \"sigmoid\"\n",
        "    )\n",
        ")\n",
        "model2.compile(\n",
        "tf.keras.optimizers.SGD(\n",
        "    learning_rate=0.002),\n",
        "    loss='binary_crossentropy')\n",
        "history3 = model2.fit( x_tr_2, y_tr, epochs=20,verbose=0, batch_size=100,validation_data=(x_val_2, y_val),)"
      ]
    },
    {
      "cell_type": "code",
      "execution_count": null,
      "metadata": {
        "colab": {
          "base_uri": "https://localhost:8080/",
          "height": 297
        },
        "id": "0ESSfssTkwXW",
        "outputId": "cc5d7f91-a5c9-40f9-908f-597ea077ec45"
      },
      "outputs": [
        {
          "output_type": "display_data",
          "data": {
            "text/plain": [
              "<Figure size 432x288 with 1 Axes>"
            ],
            "image/png": "[encoded data removed]"
          },
          "metadata": {
            "needs_background": "light"
          }
        }
      ],
      "source": [
        "plt.plot(range(0,20), history3.history['loss'])\n",
        "plt.xlabel(\"Época\")\n",
        "plt.ylabel(\"Loss\")\n",
        "plt.title(\"Loss Train\")\n",
        "plt.show()"
      ]
    },
    {
      "cell_type": "code",
      "execution_count": null,
      "metadata": {
        "colab": {
          "base_uri": "https://localhost:8080/",
          "height": 297
        },
        "id": "szcWZGtwkwXX",
        "outputId": "453c8e1e-759d-4bd2-8aa2-531a7fdc97ed"
      },
      "outputs": [
        {
          "output_type": "display_data",
          "data": {
            "text/plain": [
              "<Figure size 432x288 with 1 Axes>"
            ],
            "image/png": "[encoded data removed]"
          },
          "metadata": {
            "needs_background": "light"
          }
        }
      ],
      "source": [
        "plt.plot(range(0,20), history3.history['val_loss'])\n",
        "plt.xlabel(\"Época\")\n",
        "plt.ylabel(\"Loss\")\n",
        "plt.title(\"Val_Loss Train\")\n",
        "plt.show()"
      ]
    },
    {
      "cell_type": "code",
      "execution_count": null,
      "metadata": {
        "colab": {
          "base_uri": "https://localhost:8080/"
        },
        "id": "Wm6MJ8UTkwXX",
        "outputId": "d8975e27-aec8-4e47-8962-63738212706c"
      },
      "outputs": [
        {
          "output_type": "stream",
          "name": "stdout",
          "text": [
            "score: (0.6862745098039216, 0.6722408026755853, 0.5955473098330242, 0.5870445344129555)\n"
          ]
        }
      ],
      "source": [
        "predictions = model2.predict(x_val_2)\n",
        "model_predictions2 = [0 if i < 0.5 else 1 for i in predictions]\n",
        "print(\"score:\", calc_metrics(y_val, model_predictions2))"
      ]
    },
    {
      "cell_type": "markdown",
      "metadata": {
        "id": "T65KALngkwXX"
      },
      "source": [
        "**Tercera red, mine**\n"
      ]
    },
    {
      "cell_type": "code",
      "execution_count": null,
      "metadata": {
        "id": "ZGFE3T_IkwXX"
      },
      "outputs": [],
      "source": [
        "model3 = Sequential()\n",
        "# Hidden Layer\n",
        "model3.add(\n",
        "    Dense(\n",
        "        units = 256,\n",
        "        activation = 'relu'\n",
        "    )\n",
        ")\n",
        "# Output Layer\n",
        "model3.add(\n",
        "    Dense(\n",
        "       units = 1,\n",
        "       activation= \"sigmoid\"\n",
        "    )\n",
        ")\n",
        "model3.compile(\n",
        "tf.keras.optimizers.SGD(\n",
        "    learning_rate=0.002),\n",
        "    loss='binary_crossentropy')\n",
        "history4 = model3.fit( x_tr_3, y_tr, epochs=20, verbose=0,batch_size=100,validation_data=(x_val_3, y_val),)"
      ]
    },
    {
      "cell_type": "code",
      "execution_count": null,
      "metadata": {
        "colab": {
          "base_uri": "https://localhost:8080/",
          "height": 297
        },
        "id": "B8LiPccUkwXY",
        "outputId": "523902b8-552f-4e60-90a3-3189a58bb2e3"
      },
      "outputs": [
        {
          "output_type": "display_data",
          "data": {
            "text/plain": [
              "<Figure size 432x288 with 1 Axes>"
            ],
            "image/png": "[encoded data removed]"
          },
          "metadata": {
            "needs_background": "light"
          }
        }
      ],
      "source": [
        "plt.plot(range(0,20), history4.history['loss'])\n",
        "plt.xlabel(\"Época\")\n",
        "plt.ylabel(\"Loss\")\n",
        "plt.title(\"Loss Train\")\n",
        "plt.show()"
      ]
    },
    {
      "cell_type": "code",
      "execution_count": null,
      "metadata": {
        "colab": {
          "base_uri": "https://localhost:8080/",
          "height": 297
        },
        "id": "vRVVQ1CGkwXY",
        "outputId": "686e102d-c339-4a60-fbc8-42a082fd3905"
      },
      "outputs": [
        {
          "output_type": "display_data",
          "data": {
            "text/plain": [
              "<Figure size 432x288 with 1 Axes>"
            ],
            "image/png": "[encoded data removed]"
          },
          "metadata": {
            "needs_background": "light"
          }
        }
      ],
      "source": [
        "plt.plot(range(0,20), history4.history['val_loss'])\n",
        "plt.xlabel(\"Época\")\n",
        "plt.ylabel(\"Loss\")\n",
        "plt.title(\"Val_Loss Train\")\n",
        "plt.show()"
      ]
    },
    {
      "cell_type": "code",
      "execution_count": null,
      "metadata": {
        "colab": {
          "base_uri": "https://localhost:8080/"
        },
        "id": "IsNw2F0SkwXY",
        "outputId": "c8b71602-2fbe-439c-fbbc-e5fa659fa45f"
      },
      "outputs": [
        {
          "output_type": "stream",
          "name": "stdout",
          "text": [
            "score: (0.6013071895424836, 0.5656565656565656, 0.5651205936920223, 0.5653611512131514)\n"
          ]
        }
      ],
      "source": [
        "predictions = model3.predict(x_val_3)\n",
        "model_predictions3 = [0 if i < 0.5 else 1 for i in predictions]\n",
        "print(\"score:\", calc_metrics(y_val, model_predictions3))"
      ]
    },
    {
      "cell_type": "markdown",
      "source": [
        "**Dado nuestros scores utilizaremos la mediana como imputaciones**"
      ],
      "metadata": {
        "id": "oGBNwe4IzKHD"
      }
    },
    {
      "cell_type": "markdown",
      "metadata": {
        "id": "QT-OKy9lkwXY"
      },
      "source": [
        "Cree y entrene nuevamente la red, esta vez cambiando el _learn rate_ utilizado para el SGD. Pruebe a lo menos un valor mayor y un valor menor al elegido anteriormente. Note que para valores mayores al propuesto puede comenzar a observar fenómeno de divergencia, por lo cual es recomendable agregarle a la red un _callback_, es decir una función que verifica estados y comportamientos de la red mientras se entrena, en particular `TerminateOnNaN`, el cual interrumpirá el proceso de entrenamiento si encuentra un valor NaN. \n",
        "\n",
        "Grafique el comportamiento de los errores de validación y entrenamiento y comente."
      ]
    },
    {
      "cell_type": "code",
      "execution_count": null,
      "metadata": {
        "id": "LT9sskU6kwXZ"
      },
      "outputs": [],
      "source": [
        "model22 = Sequential()\n",
        "# Hidden Layer\n",
        "model22.add(\n",
        "    Dense(\n",
        "        units = 256,\n",
        "        activation = 'relu'\n",
        "    )\n",
        ")\n",
        "# Output Layer\n",
        "model22.add(\n",
        "    Dense(\n",
        "       units = 1,\n",
        "       activation= \"sigmoid\"\n",
        "    )\n",
        ")\n",
        "model22.compile(\n",
        "    tf.keras.optimizers.SGD(\n",
        "    learning_rate=0.001),\n",
        "    loss='binary_crossentropy')\n",
        "\n",
        "history21 = model22.fit( x_tr_2, y_tr, epochs=20, batch_size=100,verbose=0,validation_data=(x_val_2, y_val),)\n"
      ]
    },
    {
      "cell_type": "code",
      "execution_count": null,
      "metadata": {
        "colab": {
          "base_uri": "https://localhost:8080/",
          "height": 297
        },
        "id": "9XYIWfnKkwXZ",
        "outputId": "53ee9dd2-c884-437d-8dc6-cd846204dc87"
      },
      "outputs": [
        {
          "output_type": "display_data",
          "data": {
            "text/plain": [
              "<Figure size 432x288 with 1 Axes>"
            ],
            "image/png": "[encoded data removed]"
          },
          "metadata": {
            "needs_background": "light"
          }
        }
      ],
      "source": [
        "plt.plot(range(0,20), history21.history['loss'])\n",
        "plt.xlabel(\"Época\")\n",
        "plt.ylabel(\"Loss\")\n",
        "plt.title(\"Loss Train\")\n",
        "plt.show()"
      ]
    },
    {
      "cell_type": "code",
      "execution_count": null,
      "metadata": {
        "colab": {
          "base_uri": "https://localhost:8080/"
        },
        "id": "VKZKKGu4kwXZ",
        "outputId": "0d56d82c-d82b-47e0-aacb-c2d78f1bfd8e"
      },
      "outputs": [
        {
          "output_type": "stream",
          "name": "stdout",
          "text": [
            "score: (0.5555555555555556, 0.6587389380530974, 0.6331168831168831, 0.5512422360248448)\n"
          ]
        }
      ],
      "source": [
        "predictions = model22.predict(x_val_2)\n",
        "model_predictions22 = [0 if i[0] < 0.5 else 1 for i in predictions]\n",
        "print(\"score:\", calc_metrics(y_val, model_predictions22))"
      ]
    },
    {
      "cell_type": "code",
      "execution_count": null,
      "metadata": {
        "id": "ZVkkVeYskwXZ"
      },
      "outputs": [],
      "source": [
        "from keras.callbacks import TerminateOnNaN\n",
        "\n",
        "model23 = Sequential()\n",
        "# Hidden Layer\n",
        "model23.add(\n",
        "    Dense(\n",
        "        units = 256,\n",
        "        activation = 'relu'\n",
        "    )\n",
        ")\n",
        "# Output Layer\n",
        "model23.add(\n",
        "    Dense(\n",
        "       units = 1,\n",
        "       activation= \"sigmoid\"\n",
        "    )\n",
        ")\n",
        "model23.compile(\n",
        "    tf.keras.optimizers.SGD(\n",
        "    learning_rate=0.05),\n",
        "\n",
        "    loss='binary_crossentropy')\n",
        "history23 = model23.fit( x_tr_2, y_tr, epochs=20, batch_size=100,verbose=0,validation_data=(x_val_2, y_val),)\n"
      ]
    },
    {
      "cell_type": "code",
      "execution_count": null,
      "metadata": {
        "colab": {
          "base_uri": "https://localhost:8080/",
          "height": 297
        },
        "id": "UpcuQHx2kwXa",
        "outputId": "e1a3e8f9-d148-448e-ed22-dc0c90623be8"
      },
      "outputs": [
        {
          "output_type": "display_data",
          "data": {
            "text/plain": [
              "<Figure size 432x288 with 1 Axes>"
            ],
            "image/png": "[encoded data removed]"
          },
          "metadata": {
            "needs_background": "light"
          }
        }
      ],
      "source": [
        "plt.plot(range(0,20), history23.history['loss'])\n",
        "plt.xlabel(\"Época\")\n",
        "plt.ylabel(\"Loss\")\n",
        "plt.title(\"Loss Train\")\n",
        "plt.show()"
      ]
    },
    {
      "cell_type": "code",
      "execution_count": null,
      "metadata": {
        "colab": {
          "base_uri": "https://localhost:8080/"
        },
        "id": "MtYceTOMx91s",
        "outputId": "406bf6ec-c047-486b-85bb-b1ceeadbd2a9"
      },
      "outputs": [
        {
          "output_type": "stream",
          "name": "stdout",
          "text": [
            "score: (0.7254901960784313, 0.7195928080380751, 0.6540816326530612, 0.6603594080338266)\n"
          ]
        }
      ],
      "source": [
        "predictions = model23.predict(x_val_2)\n",
        "model_predictions = [0 if i < 0.5 else 1 for i in predictions]\n",
        "print(\"score:\", calc_metrics(y_val, model_predictions))"
      ]
    },
    {
      "cell_type": "markdown",
      "metadata": {
        "id": "QXYySJsrQcOV"
      },
      "source": [
        "## 1.f Activación y regularizadores $l1$ $l2$\n",
        "En esta pregunta se les propone explorar distintas funciones de activación y de regularización. En ambos casos debe entrenar la misma red entrenada anteriormente utilizando gradiente descendente estocástico con algun _learn rate_ que le parezca adecuado luego de la exploración en la pregunta anterior. \n",
        "\n",
        "* Para explorar distintas funciones de activación, cambie la activación de la capa oculta sucesivamente por: tangente hiperbólica, _Leaky ReLu_, sigmoidea y lineal. Para esto puede basarse en el código presentado abajo y la documentación de keras. Para la activación _Leaky ReLu_ pruebe cambiar el parámetro de la red. Describa sus resultados y si observa diferencias entre las redes. \n",
        "\n",
        "* Seleccione la función de activación que mejor resultados le dió y agregue regularización $l1$ a la capa oculta, luego pruebe con $l2$. Pruebe cambiar la tasa de regularización, reportando sus resultados. ¿Qué ocurre si la regularización es muy alta o muy baja? Una vez satisfecho con una tasa de regularización, aplique la regularización a la capa de salida y luego a ambas capas. \n",
        "\n",
        "¿Para qué se usan activaciones no lineales? ¿Le parece buena opción la activación sigmoidea para la capa oculta?\n",
        "\n",
        "¿Cual es la intención de la regularización en general? En particular, ¿Que restricción implicita imponen las regularizaciones $l$1 o $l$2 sobre los pesos de la capa en la cual se aplican? Apoyese de ecuaciones."
      ]
    },
    {
      "cell_type": "markdown",
      "source": [
        "**Las funciones de activacion no lineales son utiles, para lograr una representacion no lineal de ciertos problemas mas complejos. Por otro lado, usar la sigmoide, la cual es una funcion donde se calculan exponenciales, aumentando complejidad, no se encuentra centrada en cero por lo que aumenta los valores de la siguiente capa,por lo que no necesariamente es una función a tener en consideracion siempre.**\n",
        " "
      ],
      "metadata": {
        "id": "TULdzp8brTeD"
      }
    },
    {
      "cell_type": "markdown",
      "source": [
        "**Los regularizadores nos ayudan a obtener modelos donde los coeficientes  pertenencientes poseen una menor escala otorgando asi al modelo un caracteristica mas simple y menos compleja la cual puede ayudar a la generalizacion de este, por lo que si tenemos un escala muy grande los coeficientes seran pequeños y tal vez no logren expresarse debidamente.**"
      ],
      "metadata": {
        "id": "ZXSeNqeisMwK"
      }
    },
    {
      "cell_type": "code",
      "execution_count": null,
      "metadata": {
        "id": "4Ds_As8O-z4s"
      },
      "outputs": [],
      "source": [
        "from keras.layers import LeakyReLU\n",
        "from tensorflow.keras import regularizers\n",
        "\n",
        "modeltg = Sequential()\n",
        "# Hidden Layer\n",
        "modeltg.add(\n",
        "    Dense(\n",
        "        kernel_regularizer=regularizers.L1L2(l1=1e-5, l2=1e-4),\n",
        "        units = 256,\n",
        "        activation = 'tanh'\n",
        "    )\n",
        ")\n",
        "# Output Layer\n",
        "modeltg.add(\n",
        "    Dense(\n",
        "       units = 1,\n",
        "       activation= \"sigmoid\"\n",
        "    )\n",
        ")\n",
        "\n",
        "modeltg.compile(\n",
        "    tf.keras.optimizers.SGD(\n",
        "    learning_rate=0.005),\n",
        "    loss='binary_crossentropy')\n",
        "historytg = modeltg.fit( x_tr_2, y_tr, verbose=0, epochs=20, batch_size=100,validation_data=(x_val_2, y_val),)\n",
        "predictions = modeltg.predict(x_val_2)\n",
        "model_predictions1 = [0 if i < 0.5 else 1 for i in predictions]\n",
        "scoretg = calc_metrics(y_val, model_predictions1)"
      ]
    },
    {
      "cell_type": "code",
      "execution_count": null,
      "metadata": {
        "id": "sGE6MGZ6kwXb"
      },
      "outputs": [],
      "source": [
        "modelrelu = Sequential()\n",
        "# Hidden Layer\n",
        "modelrelu.add(\n",
        "    Dense(\n",
        "        units = 256,\n",
        "        activation = 'LeakyReLU'\n",
        "    )\n",
        ")\n",
        "# Output Layer\n",
        "modelrelu.add(\n",
        "    Dense(\n",
        "       units = 1,\n",
        "       activation= \"sigmoid\"\n",
        "    )\n",
        ")\n",
        "\n",
        "modelrelu.compile(\n",
        "    tf.keras.optimizers.SGD(\n",
        "    learning_rate=0.005),\n",
        "    loss='binary_crossentropy')\n",
        "historyrelu = modelrelu.fit( x_tr_2, y_tr, verbose=0, epochs=20, batch_size=100,validation_data=(x_val_2, y_val),)\n",
        "predictions = modelrelu.predict(x_val_2)\n",
        "\n",
        "model_predictions2 = [0 if i < 0.5 else 1 for i in predictions]\n",
        "scorerelu = calc_metrics(y_val, model_predictions2)"
      ]
    },
    {
      "cell_type": "code",
      "execution_count": null,
      "metadata": {
        "colab": {
          "base_uri": "https://localhost:8080/"
        },
        "id": "gegnSPppkwXb",
        "outputId": "cd6489f2-225f-4ac6-bedf-d884de6cf095"
      },
      "outputs": [
        {
          "output_type": "stream",
          "name": "stderr",
          "text": [
            "/usr/local/lib/python3.7/dist-packages/sklearn/metrics/_classification.py:1318: UndefinedMetricWarning: Precision is ill-defined and being set to 0.0 in labels with no predicted samples. Use `zero_division` parameter to control this behavior.\n",
            "  _warn_prf(average, modifier, msg_start, len(result))\n"
          ]
        }
      ],
      "source": [
        "modelsig = Sequential()\n",
        "# Hidden Layer\n",
        "modelsig.add(\n",
        "    Dense(\n",
        "        units = 256,\n",
        "        activation = 'sigmoid'\n",
        "    )\n",
        ")\n",
        "# Output Layer\n",
        "modelsig.add(\n",
        "    Dense(\n",
        "       units = 1,\n",
        "       activation= \"sigmoid\"\n",
        "    )\n",
        ")\n",
        "modelsig.compile(\n",
        "    tf.keras.optimizers.SGD(\n",
        "    learning_rate=0.005),\n",
        "    loss='binary_crossentropy')\n",
        "historysig = modelsig.fit( x_tr_2, y_tr, verbose=0, epochs=20, batch_size=100,validation_data=(x_val_2, y_val),)\n",
        "predictions = modelsig.predict(x_val_2)\n",
        "model_predictions3 = [0 if i < 0.5 else 1  for i in predictions]\n",
        "scoresig = calc_metrics(y_val, model_predictions3)"
      ]
    },
    {
      "cell_type": "code",
      "execution_count": null,
      "metadata": {
        "id": "cVliaXZykwXb"
      },
      "outputs": [],
      "source": [
        "modelLineal = Sequential()\n",
        "# Hidden Layer\n",
        "modelLineal.add(\n",
        "    Dense(\n",
        "        units = 256,\n",
        "        activation = 'linear'\n",
        "    )\n",
        ")\n",
        "# Output Layer\n",
        "modelLineal.add(\n",
        "    Dense(\n",
        "       units = 1,\n",
        "       activation= \"sigmoid\"\n",
        "    )\n",
        ")\n",
        "modelLineal.compile(\n",
        "    tf.keras.optimizers.SGD(\n",
        "    learning_rate=0.005),\n",
        "    loss='binary_crossentropy')\n",
        "historyLineal = modelLineal.fit( x_tr_2, y_tr, epochs=20, batch_size=100,verbose=0,validation_data=(x_val_2, y_val),)\n",
        "predictions = modelLineal.predict(x_val_2)\n",
        "predictions\n",
        "model_predictions4 = [0 if i < 0.5 else 1  for i in predictions]\n",
        "scoreLineal = calc_metrics(y_val, model_predictions4)"
      ]
    },
    {
      "cell_type": "code",
      "execution_count": null,
      "metadata": {
        "colab": {
          "base_uri": "https://localhost:8080/"
        },
        "id": "QHLXK4IdkwXb",
        "outputId": "7420d36d-9695-4952-c47d-f7a5f13d676e"
      },
      "outputs": [
        {
          "output_type": "stream",
          "name": "stdout",
          "text": [
            "score: \n",
            " tanh:  (0.7320261437908496, 0.7117117117117118, 0.683116883116883, 0.6905736694125191) \n",
            " ReLu:  (0.7189542483660131, 0.7533834586466166, 0.6250463821892394, 0.6202597402597403) \n",
            " Sig:  (0.6405228758169934, 0.3202614379084967, 0.5, 0.3904382470119522) \n",
            " Lineal:  (0.7450980392156863, 0.7335240274599542, 0.6893320964749536, 0.6987732848705134) \n",
            "\n"
          ]
        }
      ],
      "source": [
        "print(\"score:\", \"\\n\", \"tanh: \", scoretg , \"\\n\", \"ReLu: \", scorerelu , \"\\n\", \"Sig: \", scoresig , \"\\n\", \"Lineal: \", scoreLineal , \"\\n\")"
      ]
    },
    {
      "cell_type": "markdown",
      "source": [
        "**Como se observa, nos damos cuenta que dentro de las diferentes metricas que obserrvamos en las funciones de activación, para este caso ReLu es la mejor.**"
      ],
      "metadata": {
        "id": "LpfTABfarE5C"
      }
    },
    {
      "cell_type": "markdown",
      "source": [
        "**Regularizadores**"
      ],
      "metadata": {
        "id": "io9BNrodZ2OA"
      }
    },
    {
      "cell_type": "code",
      "source": [
        "from keras.layers import LeakyReLU\n",
        "from tensorflow.keras import regularizers\n",
        "\n",
        "modeltg = Sequential()\n",
        "# Hidden Layer\n",
        "modeltg.add(\n",
        "    Dense(\n",
        "        kernel_regularizer=regularizers.L1L2(l1=1e-5, l2=1e-4),\n",
        "        units = 256,\n",
        "        activation = 'tanh'\n",
        "    )\n",
        ")\n",
        "# Output Layer\n",
        "modeltg.add(\n",
        "    Dense(\n",
        "       units = 1,\n",
        "       activation= \"sigmoid\"\n",
        "    )\n",
        ")\n",
        "\n",
        "modeltg.compile(\n",
        "    tf.keras.optimizers.SGD(\n",
        "    learning_rate=0.005),\n",
        "    loss='binary_crossentropy')\n",
        "historytgr = modeltg.fit( x_tr_2, y_tr, verbose=0, epochs=20, batch_size=100,validation_data=(x_val_2, y_val),)\n",
        "predictions = modeltg.predict(x_val_2)\n",
        "model_predictions1 = [0 if i < 0.5 else 1 for i in predictions]\n",
        "scoretgr = calc_metrics(y_val, model_predictions1)"
      ],
      "metadata": {
        "id": "HinnSNPvZ1kM"
      },
      "execution_count": null,
      "outputs": []
    },
    {
      "cell_type": "code",
      "source": [
        "print(scoretgr)"
      ],
      "metadata": {
        "colab": {
          "base_uri": "https://localhost:8080/"
        },
        "id": "KfB55ZdgaAnw",
        "outputId": "14b986c9-2182-42b8-a686-4d42cf417e2e"
      },
      "execution_count": null,
      "outputs": [
        {
          "output_type": "stream",
          "name": "stdout",
          "text": [
            "(0.7124183006535948, 0.7089947089947091, 0.6319109461966606, 0.633493031358885)\n"
          ]
        }
      ]
    },
    {
      "cell_type": "markdown",
      "metadata": {
        "id": "dRg9SupLVBO0"
      },
      "source": [
        "## 1.g Exploración del Número de neuronas\n",
        "\n",
        "Ahora probaremos cambiando el número de neuronas en la capa oculta. Para esto, entrene la red con los hiperparámetros que estimen conveniente luego de la pregunta anterior, variando el numero de neuronas. Deben explorar a lo menos 10 número de neuronas distintos. Una recomendación sería por ejemplo explorar numero de neuronas en potencias de 2. \n",
        "\n",
        "Para cada red entrenada, recuperen el mejor error de validación y el error de entrenamiento en la _epoch_ donde se obtuvo tal error de validación. Grafique como se comportan ambos errores a medida crece el número de neuronas y comente. "
      ]
    },
    {
      "cell_type": "code",
      "execution_count": null,
      "metadata": {
        "id": "FJV-oySgVPLt",
        "colab": {
          "base_uri": "https://localhost:8080/"
        },
        "outputId": "7b964889-5aa5-4c98-ab0a-7492ced86dba"
      },
      "outputs": [
        {
          "output_type": "stream",
          "name": "stdout",
          "text": [
            "[] [0.5964381694793701, 0.620059072971344, 0.5997036695480347, 0.6293007731437683, 0.608806312084198, 0.6039102077484131, 0.6436898112297058, 0.5851611495018005, 0.585370659828186, 0.5907328128814697, 0.6122407913208008, 0.5810002088546753, 0.5822807550430298, 0.5905186533927917, 0.583449125289917, 0.595268726348877, 0.5990382432937622, 0.5814262628555298, 0.582725465297699, 0.5974441170692444]\n"
          ]
        }
      ],
      "source": [
        "import numpy as np\n",
        "\n",
        "train_error, val_error = [], []\n",
        "\n",
        "for n_units in range(56,1024,50):\n",
        "    # do model \n",
        "    modelneu = Sequential()\n",
        "# Hidden Layer\n",
        "    modelneu.add(\n",
        "        Dense(\n",
        "            units = n_units,\n",
        "                    kernel_regularizer=regularizers.L1L2(l1=1e-5, l2=1e-4),\n",
        "\n",
        "            activation = 'tanh'\n",
        "        )\n",
        "    )\n",
        "    # Output Layer\n",
        "    modelneu.add(\n",
        "        Dense(\n",
        "        units = 1,\n",
        "        activation= \"sigmoid\"\n",
        "        )\n",
        "    )\n",
        "    modelneu.compile(\n",
        "    tf.keras.optimizers.SGD(\n",
        "        learning_rate=0.005),\n",
        "        loss='binary_crossentropy')\n",
        "\n",
        "    historyneu = modelneu.fit( x_tr_2, y_tr, epochs=10, batch_size=100,verbose=0,validation_data=(x_val_2, y_val),)\n",
        "    predictions = modelneu.predict(x_val_2)\n",
        "\n",
        "    model_predictionsneu = [0 if i < 0.5 else 1 for i in predictions]\n",
        "    scoreneu = calc_metrics(y_val, model_predictionsneu)\n",
        "\n",
        "    aux = historyneu.history['val_loss'][0]\n",
        "    for x in historyneu.history['val_loss']:\n",
        "      if x < aux:\n",
        "        aux = x\n",
        "    val_error.append(aux)\n",
        "    #train_error.append([historyneu.history['loss'].index(aux)])\n",
        "    #print(scoreneu)\n",
        "    # train model\n",
        "    \n",
        "    # for instance\n",
        "print(train_error, val_error)\n",
        "# . . . ."
      ]
    },
    {
      "cell_type": "markdown",
      "metadata": {
        "id": "vlrljePYWqvt"
      },
      "source": [
        "## 1.h Dropout\n",
        "Como seguramente constataron en la pregunta anterior, un numero demasiado grande de parámetros en el modelo puede llevarnos a observar el fenomeno de _overfitting_. Una aproximación a este fenómeno que ha dado excelente resultado en redes neuronales es el método _dropout_, donde estocásticamente se desactivan una fracción de las neuronas al momento del entrenamiento, así efectivamente reduciendo el tamaño del modelo que se entrena en cada iteración e implicitamente obteniendo modelos más robustos por el simple hecho que al momento de entrenar nunca se entrena el \"mismo\" modelo. \n",
        "\n",
        "Según lo aprendido en el ramo, ¿en qué consiste el fenómeno de _overfitting_? ¿Por qué modelos más grandes suelen presentar el fenómeno? \n",
        "\n",
        "Entrene la mejor red obtenida en la pregunta anterior agregando una capa de _Dropout_ con parámetro $0.5$ inmediatamente luego de la capa oculta. Repita luego el proceso con una red con el doble de neuronas. Note que el agregar una capa _dropout_ hará que la red entrene más lento, por lo cual es recomendable aumentar el numero de _epochs_ para entrenar la red a completitud. \n",
        "\n",
        "¿Qué observa al agregar _dropout_? Comente y compare con sus resultados anteriores. "
      ]
    },
    {
      "cell_type": "markdown",
      "source": [
        "* El fenomeno de overfitting ocurre cuando a un modelo se le entrena con muchos datos. Cuando esto ocurre comienza a aprender del ruido y las entradas de datos inexactas en nuestro conjunto de datos. Entonces, el modelo no categoriza los datos correctamente, debido a demasiados detalles y ruido.\n",
        "* Al agregar el dropout observamos un aumento considerable en los scores obtenidos por el modelo entrenado. "
      ],
      "metadata": {
        "id": "bj7tOdb-5Fs5"
      }
    },
    {
      "cell_type": "code",
      "execution_count": null,
      "metadata": {
        "id": "w1CvZEViWrT-",
        "colab": {
          "base_uri": "https://localhost:8080/"
        },
        "outputId": "47f6dcd1-6ed6-45bc-eb6a-4ae87b0b428c"
      },
      "outputs": [
        {
          "output_type": "stream",
          "name": "stderr",
          "text": [
            "/usr/local/lib/python3.7/dist-packages/sklearn/metrics/_classification.py:1318: UndefinedMetricWarning: Precision is ill-defined and being set to 0.0 in labels with no predicted samples. Use `zero_division` parameter to control this behavior.\n",
            "  _warn_prf(average, modifier, msg_start, len(result))\n"
          ]
        }
      ],
      "source": [
        "from keras.layers import Dropout\n",
        "\n",
        "# . . . \n",
        "\n",
        "modelneu = Sequential()\n",
        "modelneu.add(\n",
        "    Dense(\n",
        "        units = 256,\n",
        "        activation = 'relu'\n",
        "    )\n",
        ")\n",
        "# Output Layer\n",
        "modelneu.add(\n",
        "    Dense(\n",
        "    units = 1,\n",
        "    activation= \"sigmoid\"\n",
        "    )\n",
        ")\n",
        "modelneu.add(Dropout(0.5))\n",
        "modelneu.compile(\n",
        "tf.keras.optimizers.SGD(\n",
        "    learning_rate=0.005),\n",
        "    loss='binary_crossentropy')\n",
        "historyneu = modelneu.fit( x_tr_2, y_tr, epochs=40, batch_size=100,verbose=0,validation_data=(x_val_2, y_val),)\n",
        "predictions = modelneu.predict(x_val_2)\n",
        "model_predictionsneu = [0 if i < 0.5 else 1 for i in predictions]\n",
        "scoreneud = calc_metrics(y_val, model_predictionsneu)\n",
        "\n",
        "\n",
        "# . . ."
      ]
    },
    {
      "cell_type": "code",
      "source": [
        "print(scoreneud)"
      ],
      "metadata": {
        "colab": {
          "base_uri": "https://localhost:8080/"
        },
        "id": "4C6JEwxjXnqo",
        "outputId": "4a0d6427-a7c9-422a-b86f-3434f9c3afdf"
      },
      "execution_count": null,
      "outputs": [
        {
          "output_type": "stream",
          "name": "stdout",
          "text": [
            "(0.6013071895424836, 0.3006535947712418, 0.5, 0.3755102040816326)\n"
          ]
        }
      ]
    },
    {
      "cell_type": "code",
      "source": [
        "from keras.layers import Dropout\n",
        "\n",
        "# . . . \n",
        "\n",
        "modelneu = Sequential()\n",
        "modelneu.add(\n",
        "    Dense(\n",
        "        units = 512,\n",
        "        activation = 'relu'\n",
        "    )\n",
        ")\n",
        "# Output Layer\n",
        "modelneu.add(\n",
        "    Dense(\n",
        "    units = 1,\n",
        "    activation= \"sigmoid\"\n",
        "    )\n",
        ")\n",
        "modelneu.add(Dropout(0.5))\n",
        "modelneu.compile(\n",
        "tf.keras.optimizers.SGD(\n",
        "    learning_rate=0.005),\n",
        "    loss='binary_crossentropy')\n",
        "historyneu = modelneu.fit( x_tr_2, y_tr, epochs=40, batch_size=100,verbose=0,validation_data=(x_val_2, y_val),)\n",
        "predictions = modelneu.predict(x_val_2)\n",
        "model_predictionsneu = [0 if i < 0.5 else 1 for i in predictions]\n",
        "scoreneu = calc_metrics(y_val, model_predictionsneu)"
      ],
      "metadata": {
        "id": "ByQ0jiZ-r3dl",
        "colab": {
          "base_uri": "https://localhost:8080/"
        },
        "outputId": "93d9d126-d16b-44aa-aa2f-cbd138ab8de9"
      },
      "execution_count": null,
      "outputs": [
        {
          "output_type": "stream",
          "name": "stderr",
          "text": [
            "/usr/local/lib/python3.7/dist-packages/sklearn/metrics/_classification.py:1318: UndefinedMetricWarning: Precision is ill-defined and being set to 0.0 in labels with no predicted samples. Use `zero_division` parameter to control this behavior.\n",
            "  _warn_prf(average, modifier, msg_start, len(result))\n"
          ]
        }
      ]
    },
    {
      "cell_type": "code",
      "source": [
        "print(scoreneu)"
      ],
      "metadata": {
        "colab": {
          "base_uri": "https://localhost:8080/"
        },
        "id": "rEkbnxcjzDoA",
        "outputId": "99bca444-7863-4cc7-c0fc-24ce9c2d38cf"
      },
      "execution_count": null,
      "outputs": [
        {
          "output_type": "stream",
          "name": "stdout",
          "text": [
            "(0.6928104575163399, 0.6870575221238938, 0.6506593014967926, 0.6526925863318038)\n"
          ]
        }
      ]
    },
    {
      "cell_type": "markdown",
      "metadata": {
        "id": "LiZNtjhfW-gF"
      },
      "source": [
        "## 1.i Learning Rate Decay\n",
        "Ahora entrenaremos un modelo manejando manualmente el _learn rate_. Para esto utilizaremos el _callback_ `LearningRateScheduler`. Este _callback_ nos permitirá implementar una función que maneje el _learn rate_ de nuestro modelo. \n",
        "\n",
        "Escriba una función que reciba la epoca actual y retorne un _learn rate_ lr. El lr inicial debe ser igual o mayor a alguno que haya dado buenos resultados en las preguntas anteriores. La función debe dividir por 2 el lr cada 10 _epochs_. Además ponga como restricción que el lr no debe ser menor a $5\\times 10^{-5}$, es decir si el valor obtenido es menor a  $5\\times 10^{-5}$, la función retorna  $5\\times 10^{-5}$.\n",
        "\n",
        "Entrene su red preferida de las preguntas anteriores con esta modificación, grafique los errores a lo largo del entrenamiento y comente. Según lo visto en el ramo, ¿por qué podría ser util disminuir el _learn rate_ a medida se avanza en el aprendizaje de la red?"
      ]
    },
    {
      "cell_type": "markdown",
      "source": [
        "* Para eliminar el fenomeno de overfitting que puede experimentar nuestro modelos en epochs avanzados."
      ],
      "metadata": {
        "id": "wA0cfMQ56Nh_"
      }
    },
    {
      "cell_type": "code",
      "execution_count": null,
      "metadata": {
        "id": "O-lO6ZS4XPT1",
        "colab": {
          "base_uri": "https://localhost:8080/"
        },
        "outputId": "9767db93-aad8-4da8-f91a-3c7ff026a3c0"
      },
      "outputs": [
        {
          "output_type": "stream",
          "name": "stdout",
          "text": [
            "Epoch 1/50\n",
            "6/6 - 1s - loss: 0.6854 - val_loss: 0.6860 - lr: 0.0025 - 544ms/epoch - 91ms/step\n",
            "Epoch 2/50\n",
            "6/6 - 0s - loss: 0.6818 - val_loss: 0.6825 - lr: 0.0025 - 33ms/epoch - 5ms/step\n",
            "Epoch 3/50\n",
            "6/6 - 0s - loss: 0.6782 - val_loss: 0.6792 - lr: 0.0025 - 38ms/epoch - 6ms/step\n",
            "Epoch 4/50\n",
            "6/6 - 0s - loss: 0.6748 - val_loss: 0.6760 - lr: 0.0025 - 37ms/epoch - 6ms/step\n",
            "Epoch 5/50\n",
            "6/6 - 0s - loss: 0.6715 - val_loss: 0.6730 - lr: 0.0025 - 39ms/epoch - 6ms/step\n",
            "Epoch 6/50\n",
            "6/6 - 0s - loss: 0.6683 - val_loss: 0.6698 - lr: 0.0025 - 33ms/epoch - 6ms/step\n",
            "Epoch 7/50\n",
            "6/6 - 0s - loss: 0.6650 - val_loss: 0.6668 - lr: 0.0025 - 34ms/epoch - 6ms/step\n",
            "Epoch 8/50\n",
            "6/6 - 0s - loss: 0.6618 - val_loss: 0.6639 - lr: 0.0025 - 39ms/epoch - 6ms/step\n",
            "Epoch 9/50\n",
            "6/6 - 0s - loss: 0.6587 - val_loss: 0.6611 - lr: 0.0025 - 40ms/epoch - 7ms/step\n",
            "Epoch 10/50\n",
            "6/6 - 0s - loss: 0.6556 - val_loss: 0.6583 - lr: 0.0025 - 38ms/epoch - 6ms/step\n",
            "Epoch 11/50\n",
            "6/6 - 0s - loss: 0.6532 - val_loss: 0.6570 - lr: 0.0012 - 54ms/epoch - 9ms/step\n",
            "Epoch 12/50\n",
            "6/6 - 0s - loss: 0.6517 - val_loss: 0.6558 - lr: 0.0012 - 36ms/epoch - 6ms/step\n",
            "Epoch 13/50\n",
            "6/6 - 0s - loss: 0.6504 - val_loss: 0.6545 - lr: 0.0012 - 39ms/epoch - 7ms/step\n",
            "Epoch 14/50\n",
            "6/6 - 0s - loss: 0.6490 - val_loss: 0.6533 - lr: 0.0012 - 41ms/epoch - 7ms/step\n",
            "Epoch 15/50\n",
            "6/6 - 0s - loss: 0.6476 - val_loss: 0.6521 - lr: 0.0012 - 42ms/epoch - 7ms/step\n",
            "Epoch 16/50\n",
            "6/6 - 0s - loss: 0.6462 - val_loss: 0.6509 - lr: 0.0012 - 36ms/epoch - 6ms/step\n",
            "Epoch 17/50\n",
            "6/6 - 0s - loss: 0.6449 - val_loss: 0.6497 - lr: 0.0012 - 33ms/epoch - 6ms/step\n",
            "Epoch 18/50\n",
            "6/6 - 0s - loss: 0.6436 - val_loss: 0.6485 - lr: 0.0012 - 39ms/epoch - 6ms/step\n",
            "Epoch 19/50\n",
            "6/6 - 0s - loss: 0.6422 - val_loss: 0.6474 - lr: 0.0012 - 36ms/epoch - 6ms/step\n",
            "Epoch 20/50\n",
            "6/6 - 0s - loss: 0.6409 - val_loss: 0.6463 - lr: 0.0012 - 36ms/epoch - 6ms/step\n",
            "Epoch 21/50\n",
            "6/6 - 0s - loss: 0.6399 - val_loss: 0.6457 - lr: 6.2500e-04 - 42ms/epoch - 7ms/step\n",
            "Epoch 22/50\n",
            "6/6 - 0s - loss: 0.6392 - val_loss: 0.6452 - lr: 6.2500e-04 - 37ms/epoch - 6ms/step\n",
            "Epoch 23/50\n",
            "6/6 - 0s - loss: 0.6386 - val_loss: 0.6447 - lr: 6.2500e-04 - 36ms/epoch - 6ms/step\n",
            "Epoch 24/50\n",
            "6/6 - 0s - loss: 0.6380 - val_loss: 0.6441 - lr: 6.2500e-04 - 36ms/epoch - 6ms/step\n",
            "Epoch 25/50\n",
            "6/6 - 0s - loss: 0.6373 - val_loss: 0.6436 - lr: 6.2500e-04 - 39ms/epoch - 6ms/step\n",
            "Epoch 26/50\n",
            "6/6 - 0s - loss: 0.6367 - val_loss: 0.6431 - lr: 6.2500e-04 - 37ms/epoch - 6ms/step\n",
            "Epoch 27/50\n",
            "6/6 - 0s - loss: 0.6362 - val_loss: 0.6426 - lr: 6.2500e-04 - 41ms/epoch - 7ms/step\n",
            "Epoch 28/50\n",
            "6/6 - 0s - loss: 0.6355 - val_loss: 0.6420 - lr: 6.2500e-04 - 33ms/epoch - 6ms/step\n",
            "Epoch 29/50\n",
            "6/6 - 0s - loss: 0.6349 - val_loss: 0.6415 - lr: 6.2500e-04 - 33ms/epoch - 5ms/step\n",
            "Epoch 30/50\n",
            "6/6 - 0s - loss: 0.6343 - val_loss: 0.6410 - lr: 6.2500e-04 - 37ms/epoch - 6ms/step\n",
            "Epoch 31/50\n",
            "6/6 - 0s - loss: 0.6338 - val_loss: 0.6408 - lr: 3.1250e-04 - 35ms/epoch - 6ms/step\n",
            "Epoch 32/50\n",
            "6/6 - 0s - loss: 0.6335 - val_loss: 0.6405 - lr: 3.1250e-04 - 38ms/epoch - 6ms/step\n",
            "Epoch 33/50\n",
            "6/6 - 0s - loss: 0.6332 - val_loss: 0.6403 - lr: 3.1250e-04 - 35ms/epoch - 6ms/step\n",
            "Epoch 34/50\n",
            "6/6 - 0s - loss: 0.6330 - val_loss: 0.6400 - lr: 3.1250e-04 - 38ms/epoch - 6ms/step\n",
            "Epoch 35/50\n",
            "6/6 - 0s - loss: 0.6327 - val_loss: 0.6398 - lr: 3.1250e-04 - 53ms/epoch - 9ms/step\n",
            "Epoch 36/50\n",
            "6/6 - 0s - loss: 0.6324 - val_loss: 0.6395 - lr: 3.1250e-04 - 37ms/epoch - 6ms/step\n",
            "Epoch 37/50\n",
            "6/6 - 0s - loss: 0.6321 - val_loss: 0.6393 - lr: 3.1250e-04 - 37ms/epoch - 6ms/step\n",
            "Epoch 38/50\n",
            "6/6 - 0s - loss: 0.6318 - val_loss: 0.6391 - lr: 3.1250e-04 - 42ms/epoch - 7ms/step\n",
            "Epoch 39/50\n",
            "6/6 - 0s - loss: 0.6315 - val_loss: 0.6388 - lr: 3.1250e-04 - 34ms/epoch - 6ms/step\n",
            "Epoch 40/50\n",
            "6/6 - 0s - loss: 0.6312 - val_loss: 0.6386 - lr: 3.1250e-04 - 34ms/epoch - 6ms/step\n",
            "Epoch 41/50\n",
            "6/6 - 0s - loss: 0.6310 - val_loss: 0.6385 - lr: 1.5625e-04 - 35ms/epoch - 6ms/step\n",
            "Epoch 42/50\n",
            "6/6 - 0s - loss: 0.6309 - val_loss: 0.6384 - lr: 1.5625e-04 - 35ms/epoch - 6ms/step\n",
            "Epoch 43/50\n",
            "6/6 - 0s - loss: 0.6307 - val_loss: 0.6382 - lr: 1.5625e-04 - 38ms/epoch - 6ms/step\n",
            "Epoch 44/50\n",
            "6/6 - 0s - loss: 0.6306 - val_loss: 0.6381 - lr: 1.5625e-04 - 44ms/epoch - 7ms/step\n",
            "Epoch 45/50\n",
            "6/6 - 0s - loss: 0.6304 - val_loss: 0.6380 - lr: 1.5625e-04 - 55ms/epoch - 9ms/step\n",
            "Epoch 46/50\n",
            "6/6 - 0s - loss: 0.6303 - val_loss: 0.6379 - lr: 1.5625e-04 - 40ms/epoch - 7ms/step\n",
            "Epoch 47/50\n",
            "6/6 - 0s - loss: 0.6302 - val_loss: 0.6378 - lr: 1.5625e-04 - 35ms/epoch - 6ms/step\n",
            "Epoch 48/50\n",
            "6/6 - 0s - loss: 0.6300 - val_loss: 0.6377 - lr: 1.5625e-04 - 37ms/epoch - 6ms/step\n",
            "Epoch 49/50\n",
            "6/6 - 0s - loss: 0.6299 - val_loss: 0.6375 - lr: 1.5625e-04 - 36ms/epoch - 6ms/step\n",
            "Epoch 50/50\n",
            "6/6 - 0s - loss: 0.6297 - val_loss: 0.6374 - lr: 1.5625e-04 - 41ms/epoch - 7ms/step\n"
          ]
        }
      ],
      "source": [
        "from keras.callbacks import LearningRateScheduler\n",
        "\n",
        "def step_decay(epoch, lr):\n",
        "  if lr < 5e-5:\n",
        "    return 5e-5\n",
        "  if epoch%10 == 0:\n",
        "    lr = lr/2\n",
        "    return lr\n",
        "  else:\n",
        "    return lr\n",
        "\n",
        "schedule = LearningRateScheduler(step_decay)\n",
        "\n",
        "# model. # . . . \n",
        "modelneu = Sequential()\n",
        "modelneu.add(\n",
        "    Dense(\n",
        "        units = 256,\n",
        "        activation = 'relu'\n",
        "    )\n",
        ")\n",
        "# Output Layer\n",
        "modelneu.add(\n",
        "    Dense(\n",
        "    units = 1,\n",
        "    activation= \"sigmoid\"\n",
        "    )\n",
        ")\n",
        "modelneu.compile(\n",
        "tf.keras.optimizers.SGD(\n",
        "    learning_rate=0.005),\n",
        "    loss='binary_crossentropy')\n",
        "historyneu = modelneu.fit( x_tr_2, y_tr, epochs=50, batch_size=100,verbose=2,validation_data=(x_val_2, y_val),callbacks=[schedule])\n",
        "predictions = modelneu.predict(x_val_2)\n",
        "model_predictionsneu = [0 if i < 0.5 else 1 for i in predictions]\n",
        "scoreneu = calc_metrics(y_val, model_predictionsneu)"
      ]
    },
    {
      "cell_type": "markdown",
      "metadata": {
        "id": "sgTWLKGFXjHi"
      },
      "source": [
        "## 1.j Vanishing Gradient\n",
        "\n",
        "`Nota:` para esta y las siguientes preguntas solo considere el mejor conjunto de entrenamiento obtenidos a partir de la imputación, es decir, escoja el $X \\in \\{X_1, X_2, X_3\\}$ con el que mejores resultados haya obtenido hasta ahora.\n",
        "\n",
        "El fenómeno del _vanishing gradient_ es el rápido decaimiento del paso de _Backpropagation_ al avanzar por las capas. A lo largo de la tarea solo hemos entrenado capas con una red oculta, de igual forma que la comunidad cientifica realizo por largo tiempo, por el problema del _vanishing gradient_ y por el teorema de aproximación universal que resumidamente demuestra que una red de una sola capa puede aproximar una amplia familia de funciones. \n",
        "\n",
        "En esta pregunta entrenaremos una red neuronal profunda sin implementar ninguno de los dispositivos que permiten hoy en día sortear el problema del _vanishing gradient_, para ponerlo en evidencia. Para esto construya una red con 6 capas ocultas, con la siguiente lista de numero de neuronas: $256$ $256$ $128$ $128$ $32$ y $32$, o con valores similares. De tal manera obtendrá un valor de parámetros relativamente comparable a los valores utilizados en las primeras redes. \n",
        "\n",
        "Grafique un histograma con los pesos de las 6 capas densas de la red sin entrenar, entrenela a completitud con el método que estime conveniente y luego grafique nuevamente los histogramas para las 6 capas. Comente lo que observa. \n",
        "\n",
        "Luego, pruebe cambiar la inizialización de los pesos de la capa densa, puede revisar la documentación de keras para ver las opciones existentes a parte de `glorot_uniform` por defecto. ¿Se logra solucionar el problema? \n",
        "\n",
        "Por último, pruebe aumentar la tasa de aprendizaje para ver si logra hacer que el paso de _backpropagation_ alcance las capas que anteriormente no se entrenaban. ¿Qué observa en este caso? "
      ]
    },
    {
      "cell_type": "code",
      "execution_count": null,
      "metadata": {
        "id": "mGVS1TjVXkY2"
      },
      "outputs": [],
      "source": [
        "# . . .\n",
        "modelneu = Sequential()\n",
        "\n",
        "modelneu.add(\n",
        "    Dense(\n",
        "        units = 256,\n",
        "        activation = 'relu'\n",
        "    )\n",
        ")\n",
        "modelneu.add(\n",
        "    Dense(\n",
        "        units = 256,\n",
        "        activation = 'relu'\n",
        "    )\n",
        ")\n",
        "modelneu.add(\n",
        "    Dense(\n",
        "        units = 128,\n",
        "        activation = 'relu'\n",
        "    )\n",
        ")\n",
        "modelneu.add(\n",
        "    Dense(\n",
        "        units = 128,\n",
        "        activation = 'relu'\n",
        "    )\n",
        ")\n",
        "modelneu.add(\n",
        "    Dense(\n",
        "        units = 32,\n",
        "        activation = 'relu'\n",
        "    )\n",
        ")\n",
        "modelneu.add(\n",
        "    Dense(\n",
        "        units = 32,\n",
        "        activation = 'relu'\n",
        "    )\n",
        ")\n",
        "# Output Layer\n",
        "modelneu.add(\n",
        "    Dense(\n",
        "    units = 1,\n",
        "    activation= \"sigmoid\"\n",
        "    )\n",
        ")\n",
        "modelneu.compile(\n",
        "tf.keras.optimizers.SGD(\n",
        "    learning_rate=0.005),\n",
        "    loss='binary_crossentropy')\n",
        "\n",
        "historyneu = modelneu.fit( x_tr_2, y_tr, epochs=1, batch_size=100,verbose=0,validation_data=(x_val_2, y_val),)\n",
        "predictions = modelneu.predict(x_val_2)\n",
        "model_predictionsneu = [0 if i < 0.5 else 1 for i in predictions]\n",
        "scoreneu = calc_metrics(y_val, model_predictionsneu)\n",
        "kernel_initial = []\n",
        "bias_initial = []\n",
        "\n",
        "\n",
        "for i in range(6):\n",
        "  aux = 0\n",
        "  aux1 = 0\n",
        "  layer_kernel_weights = modelneu.get_layer(index=i).get_weights()[0]\n",
        "  layer_bias_weight = modelneu.get_layer(index=i).get_weights()[1]\n",
        "  for x in layer_kernel_weights:\n",
        "    for z in x:\n",
        "      aux+=z\n",
        "  for m in layer_bias_weight:\n",
        "    aux1 += m\n",
        "  kernel_initial.append(aux)\n",
        "  bias_initial.append(aux1)\n",
        "\n",
        "# for one layer\n",
        "# you can also name your layers and call them by their names if it's less confusing\n",
        "\n",
        "# . . . "
      ]
    },
    {
      "cell_type": "code",
      "source": [
        "plt.bar(range(0,6), bias_initial)\n",
        "plt.xlabel(\"Capa\")\n",
        "plt.ylabel(\"Bias\")\n",
        "plt.show()"
      ],
      "metadata": {
        "colab": {
          "base_uri": "https://localhost:8080/",
          "height": 279
        },
        "id": "wShfHE-g3LLJ",
        "outputId": "fb4ea7b1-6ed7-4bb2-ae0d-e86a6bf011ab"
      },
      "execution_count": null,
      "outputs": [
        {
          "output_type": "display_data",
          "data": {
            "text/plain": [
              "<Figure size 432x288 with 1 Axes>"
            ],
            "image/png": "[encoded data removed]"
          },
          "metadata": {
            "needs_background": "light"
          }
        }
      ]
    },
    {
      "cell_type": "code",
      "source": [
        "plt.bar(range(0,6), kernel_initial)\n",
        "plt.xlabel(\"Capa\")\n",
        "plt.ylabel(\"Kernel\")\n",
        "plt.show()"
      ],
      "metadata": {
        "colab": {
          "base_uri": "https://localhost:8080/",
          "height": 279
        },
        "id": "rojtNVFwMSwV",
        "outputId": "bf0563be-447c-4176-a1ef-ec8d4ae497c2"
      },
      "execution_count": null,
      "outputs": [
        {
          "output_type": "display_data",
          "data": {
            "text/plain": [
              "<Figure size 432x288 with 1 Axes>"
            ],
            "image/png": "[encoded data removed]"
          },
          "metadata": {
            "needs_background": "light"
          }
        }
      ]
    },
    {
      "cell_type": "code",
      "source": [
        "# . . .\n",
        "modelneu = Sequential()\n",
        "\n",
        "modelneu.add(\n",
        "    Dense(\n",
        "        units = 256,\n",
        "        activation = 'relu'\n",
        "    )\n",
        ")\n",
        "modelneu.add(\n",
        "    Dense(\n",
        "        units = 256,\n",
        "        activation = 'relu'\n",
        "    )\n",
        ")\n",
        "modelneu.add(\n",
        "    Dense(\n",
        "        units = 128,\n",
        "        activation = 'relu'\n",
        "    )\n",
        ")\n",
        "modelneu.add(\n",
        "    Dense(\n",
        "        units = 128,\n",
        "        activation = 'relu'\n",
        "    )\n",
        ")\n",
        "modelneu.add(\n",
        "    Dense(\n",
        "        units = 32,\n",
        "        activation = 'relu'\n",
        "    )\n",
        ")\n",
        "modelneu.add(\n",
        "    Dense(\n",
        "        units = 32,\n",
        "        activation = 'relu'\n",
        "    )\n",
        ")\n",
        "# Output Layer\n",
        "modelneu.add(\n",
        "    Dense(\n",
        "    units = 1,\n",
        "    activation= \"sigmoid\"\n",
        "    )\n",
        ")\n",
        "modelneu.compile(\n",
        "tf.keras.optimizers.SGD(\n",
        "    learning_rate=0.005),\n",
        "    loss='binary_crossentropy')\n",
        "\n",
        "historyneu = modelneu.fit( x_tr_2, y_tr, epochs=30, batch_size=100,verbose=0,validation_data=(x_val_2, y_val),)\n",
        "predictions = modelneu.predict(x_val_2)\n",
        "model_predictionsneu = [0 if i < 0.5 else 1 for i in predictions]\n",
        "scoreneu = calc_metrics(y_val, model_predictionsneu)\n",
        "kernel_initial = []\n",
        "bias_initial = []\n",
        "\n",
        "\n",
        "for i in range(6):\n",
        "  aux = 0\n",
        "  aux1 = 0\n",
        "  layer_kernel_weights = modelneu.get_layer(index=i).get_weights()[0]\n",
        "  layer_bias_weight = modelneu.get_layer(index=i).get_weights()[1]\n",
        "  for x in layer_kernel_weights:\n",
        "    for z in x:\n",
        "      aux+=z\n",
        "  for m in layer_bias_weight:\n",
        "    aux1 += m\n",
        "  kernel_initial.append(aux)\n",
        "  bias_initial.append(aux1)\n",
        "\n",
        "# for one layer\n",
        "# you can also name your layers and call them by their names if it's less confusing\n",
        "\n",
        "# . . . "
      ],
      "metadata": {
        "colab": {
          "base_uri": "https://localhost:8080/"
        },
        "id": "kSC4457vOTw9",
        "outputId": "03221c13-3e7d-4e1f-b683-692452fd1041"
      },
      "execution_count": null,
      "outputs": [
        {
          "output_type": "stream",
          "name": "stderr",
          "text": [
            "/usr/local/lib/python3.7/dist-packages/sklearn/metrics/_classification.py:1318: UndefinedMetricWarning: Precision is ill-defined and being set to 0.0 in labels with no predicted samples. Use `zero_division` parameter to control this behavior.\n",
            "  _warn_prf(average, modifier, msg_start, len(result))\n"
          ]
        }
      ]
    },
    {
      "cell_type": "code",
      "source": [
        "plt.plot(range(0,6), bias_initial)\n",
        "plt.xlabel(\"Capa\")\n",
        "plt.ylabel(\"Bias\")\n",
        "plt.show()"
      ],
      "metadata": {
        "colab": {
          "base_uri": "https://localhost:8080/",
          "height": 279
        },
        "outputId": "88ac5960-ae79-4128-8148-8e2647473ee4",
        "id": "DOyKT0mU1gGM"
      },
      "execution_count": null,
      "outputs": [
        {
          "output_type": "display_data",
          "data": {
            "text/plain": [
              "<Figure size 432x288 with 1 Axes>"
            ],
            "image/png": "[encoded data removed]"
          },
          "metadata": {
            "needs_background": "light"
          }
        }
      ]
    },
    {
      "cell_type": "code",
      "source": [
        "plt.plot(range(0,6), kernel_initial)\n",
        "plt.xlabel(\"Capa\")\n",
        "plt.ylabel(\"Kernel\")\n",
        "plt.show()"
      ],
      "metadata": {
        "colab": {
          "base_uri": "https://localhost:8080/",
          "height": 283
        },
        "outputId": "a0eaa32e-903d-44d0-f652-1b380dedf092",
        "id": "3adrF1sy1gGN"
      },
      "execution_count": null,
      "outputs": [
        {
          "output_type": "display_data",
          "data": {
            "text/plain": [
              "<Figure size 432x288 with 1 Axes>"
            ],
            "image/png": "[encoded data removed]"
          },
          "metadata": {
            "needs_background": "light"
          }
        }
      ]
    },
    {
      "cell_type": "markdown",
      "metadata": {
        "id": "8xzSDda3X54n"
      },
      "source": [
        "## 1.k Batch Normalization\n",
        "\n",
        "Una manera propuesta de mejorar los desempeños de las redes es Batch Normalization. Entrene nuevamente su red preferida de la pregunta anterior, agregando capas de _Batch Normalization_ antes de cada función de activación. Comente sus resultados. Luego pruebe agregando capas de _Batch Normalization_ después de cada función de activación.\n",
        "\n",
        "¿Qué realiza _Batch Normalization_ en términos matemáticos?. En términos de aprendizaje, ¿Qué evita la utilización de _Batch Normalization_?\n",
        "\n",
        "¿Mejoran los desempeños de la red agregando _Batch Normalization_?¿Existe diferencias entre una capa de _Batch Normalization_ justo antes o justo después de la función de activación en términos de aprendizaje? Discuta."
      ]
    },
    {
      "cell_type": "code",
      "execution_count": null,
      "metadata": {
        "id": "gsaYTmuWYHer"
      },
      "outputs": [],
      "source": [
        "from tensorflow.keras.layers import BatchNormalization\n",
        "# . . .\n",
        "modelneu = Sequential()\n",
        "\n",
        "modelneu.add(\n",
        "    Dense(\n",
        "        units = 256,\n",
        "    )\n",
        ")\n",
        "modelneu.add(BatchNormalization())\n",
        "modelneu.add(layers.Activation('relu'))\n",
        "\n",
        "\n",
        "\n",
        "modelneu.add(\n",
        "    Dense(\n",
        "        units = 256,\n",
        "    )\n",
        ")\n",
        "modelneu.add(BatchNormalization())\n",
        "modelneu.add(layers.Activation('relu'))\n",
        "\n",
        "\n",
        "\n",
        "modelneu.add(\n",
        "    Dense(\n",
        "        units = 128,\n",
        "    )\n",
        ")\n",
        "modelneu.add(BatchNormalization())\n",
        "modelneu.add(layers.Activation('relu'))\n",
        "\n",
        "\n",
        "\n",
        "modelneu.add(\n",
        "    Dense(\n",
        "        units = 128,\n",
        "    )\n",
        ")\n",
        "modelneu.add(BatchNormalization())\n",
        "modelneu.add(layers.Activation('relu'))\n",
        "\n",
        "\n",
        "\n",
        "modelneu.add(\n",
        "    Dense(\n",
        "        units = 32,\n",
        "    )\n",
        ")\n",
        "modelneu.add(BatchNormalization())\n",
        "modelneu.add(layers.Activation('relu'))\n",
        "\n",
        "\n",
        "\n",
        "modelneu.add(\n",
        "    Dense(\n",
        "        units = 32,\n",
        "    )\n",
        ")\n",
        "modelneu.add(BatchNormalization())\n",
        "modelneu.add(layers.Activation('relu'))\n",
        "\n",
        "\n",
        "\n",
        "# Output Layer\n",
        "modelneu.add(\n",
        "    Dense(\n",
        "    units = 1,\n",
        "    )\n",
        ")\n",
        "modelneu.add(BatchNormalization())\n",
        "modelneu.add(layers.Activation('sigmoid'))\n",
        "\n",
        "\n",
        "\n",
        "modelneu.compile(\n",
        "tf.keras.optimizers.SGD(\n",
        "    learning_rate=0.005),\n",
        "    loss='binary_crossentropy')\n",
        "\n",
        "historyneu = modelneu.fit( x_tr_2, y_tr, epochs=30, batch_size=100,verbose=0,validation_data=(x_val_2, y_val),)\n",
        "predictions = modelneu.predict(x_val_2)\n",
        "model_predictionsneu = [0 if i < 0.5 else 1 for i in predictions]\n",
        "scoreneu = calc_metrics(y_val, model_predictionsneu)\n",
        "# . . ."
      ]
    },
    {
      "cell_type": "code",
      "source": [
        "print(scoreneu)"
      ],
      "metadata": {
        "colab": {
          "base_uri": "https://localhost:8080/"
        },
        "id": "ke411Z_p8-sr",
        "outputId": "12c8e9ed-7c21-4a9f-96ac-37495d4a64a3"
      },
      "execution_count": null,
      "outputs": [
        {
          "output_type": "stream",
          "name": "stdout",
          "text": [
            "(0.6209150326797386, 0.6050850399166956, 0.6123376623376624, 0.6046863863150391)\n"
          ]
        }
      ]
    },
    {
      "cell_type": "code",
      "source": [
        "from tensorflow.keras.layers import BatchNormalization\n",
        "# . . .\n",
        "modelneu = Sequential()\n",
        "\n",
        "modelneu.add(\n",
        "    Dense(\n",
        "        units = 256,\n",
        "    )\n",
        ")\n",
        "modelneu.add(layers.Activation('relu'))\n",
        "modelneu.add(BatchNormalization())\n",
        "\n",
        "\n",
        "\n",
        "modelneu.add(\n",
        "    Dense(\n",
        "        units = 256,\n",
        "    )\n",
        ")\n",
        "modelneu.add(layers.Activation('relu'))\n",
        "modelneu.add(BatchNormalization())\n",
        "\n",
        "\n",
        "\n",
        "modelneu.add(\n",
        "    Dense(\n",
        "        units = 128,\n",
        "    )\n",
        ")\n",
        "modelneu.add(layers.Activation('relu'))\n",
        "modelneu.add(BatchNormalization())\n",
        "\n",
        "\n",
        "\n",
        "modelneu.add(\n",
        "    Dense(\n",
        "        units = 128,\n",
        "    )\n",
        ")\n",
        "modelneu.add(layers.Activation('relu'))\n",
        "modelneu.add(BatchNormalization())\n",
        "\n",
        "\n",
        "\n",
        "modelneu.add(\n",
        "    Dense(\n",
        "        units = 32,\n",
        "    )\n",
        ")\n",
        "modelneu.add(layers.Activation('relu'))\n",
        "modelneu.add(BatchNormalization())\n",
        "\n",
        "\n",
        "\n",
        "modelneu.add(\n",
        "    Dense(\n",
        "        units = 32,\n",
        "    )\n",
        ")\n",
        "modelneu.add(layers.Activation('relu'))\n",
        "modelneu.add(BatchNormalization())\n",
        "\n",
        "\n",
        "\n",
        "# Output Layer\n",
        "modelneu.add(\n",
        "    Dense(\n",
        "    units = 1,\n",
        "    )\n",
        ")\n",
        "modelneu.add(layers.Activation('sigmoid'))\n",
        "\n",
        "\n",
        "\n",
        "modelneu.compile(\n",
        "tf.keras.optimizers.SGD(\n",
        "    learning_rate=0.005),\n",
        "    loss='binary_crossentropy')\n",
        "\n",
        "historyneu = modelneu.fit( x_tr_2, y_tr, epochs=30, batch_size=100,verbose=0,validation_data=(x_val_2, y_val),)\n",
        "predictions = modelneu.predict(x_val_2)\n",
        "model_predictionsneu = [0 if i < 0.5 else 1 for i in predictions]\n",
        "scoreneu = calc_metrics(y_val, model_predictionsneu)\n",
        "# . . ."
      ],
      "metadata": {
        "id": "rzGqa4gy9fj1"
      },
      "execution_count": null,
      "outputs": []
    },
    {
      "cell_type": "code",
      "source": [
        "print(scoreneu)"
      ],
      "metadata": {
        "colab": {
          "base_uri": "https://localhost:8080/"
        },
        "id": "LehJPWha9gSv",
        "outputId": "d0463f0c-0c55-4caa-b76a-37059a6a33c8"
      },
      "execution_count": null,
      "outputs": [
        {
          "output_type": "stream",
          "name": "stdout",
          "text": [
            "(0.6797385620915033, 0.674074074074074, 0.5784786641929499, 0.5592333470515609)\n"
          ]
        }
      ]
    },
    {
      "cell_type": "markdown",
      "metadata": {
        "id": "RuJPFehRXsOh"
      },
      "source": [
        "## 1.l Otros Optimizadores\n",
        "\n",
        "Utilizando la arquitectura de red que mejor se haya desempeñado a lo largo de la tarea, entrene esta red utilizando un optimizador distinto al gradiente descendente estocástico. Pruebe al menos 2 optimizadores implementados en keras (puede utilizar Adam, AdaGrad, AdaDelta, RMSprop, entre otros), también puede probar modificando los parámetros que no hemos utilizado del gradiente descendente estocástico (momentum, momentum de Nesterov...).\n",
        "\n",
        "Note que por las inicializaciones por defecto de los pesos de las capas y la naturaleza de los datos en cuestión, puede ocurrir que para los valores defecto de algunos optimizadores la red diverga en las primeras iteraciones. Para fijar los parámeros de los optimizadores debe importarlos desde `keras.optimizers` y pasar el objeto con los parámetros deseados al método `.compile` de su modelo. En cambio si con los valores usuales basta, algunos optimizadores pueden pasarse como `string` a `.compile`.\n",
        "\n",
        "Compare como se desempeñan estos optimizadores con la versión utilizada anteriormente, considerando los tiempos de entrenamiento y el desempeño final alcanzado. Apoyese de gráficos. "
      ]
    },
    {
      "cell_type": "code",
      "execution_count": null,
      "metadata": {
        "id": "EgOhV-HxXtvm",
        "colab": {
          "base_uri": "https://localhost:8080/"
        },
        "outputId": "f0186634-28b7-4cd2-8ab7-a6a76a29fbcc"
      },
      "outputs": [
        {
          "output_type": "stream",
          "name": "stdout",
          "text": [
            "Epoch 1/20\n",
            "6/6 - 1s - loss: 0.0000e+00 - val_loss: 0.0000e+00 - 875ms/epoch - 146ms/step\n",
            "Epoch 2/20\n",
            "6/6 - 0s - loss: 0.0000e+00 - val_loss: 0.0000e+00 - 57ms/epoch - 10ms/step\n",
            "Epoch 3/20\n",
            "6/6 - 0s - loss: 0.0000e+00 - val_loss: 0.0000e+00 - 55ms/epoch - 9ms/step\n",
            "Epoch 4/20\n",
            "6/6 - 0s - loss: 0.0000e+00 - val_loss: 0.0000e+00 - 60ms/epoch - 10ms/step\n",
            "Epoch 5/20\n",
            "6/6 - 0s - loss: 0.0000e+00 - val_loss: 0.0000e+00 - 66ms/epoch - 11ms/step\n",
            "Epoch 6/20\n",
            "6/6 - 0s - loss: 0.0000e+00 - val_loss: 0.0000e+00 - 66ms/epoch - 11ms/step\n",
            "Epoch 7/20\n",
            "6/6 - 0s - loss: 0.0000e+00 - val_loss: 0.0000e+00 - 54ms/epoch - 9ms/step\n",
            "Epoch 8/20\n",
            "6/6 - 0s - loss: 0.0000e+00 - val_loss: 0.0000e+00 - 65ms/epoch - 11ms/step\n",
            "Epoch 9/20\n",
            "6/6 - 0s - loss: 0.0000e+00 - val_loss: 0.0000e+00 - 54ms/epoch - 9ms/step\n",
            "Epoch 10/20\n",
            "6/6 - 0s - loss: 0.0000e+00 - val_loss: 0.0000e+00 - 61ms/epoch - 10ms/step\n",
            "Epoch 11/20\n",
            "6/6 - 0s - loss: 0.0000e+00 - val_loss: 0.0000e+00 - 60ms/epoch - 10ms/step\n",
            "Epoch 12/20\n",
            "6/6 - 0s - loss: 0.0000e+00 - val_loss: 0.0000e+00 - 76ms/epoch - 13ms/step\n",
            "Epoch 13/20\n",
            "6/6 - 0s - loss: 0.0000e+00 - val_loss: 0.0000e+00 - 64ms/epoch - 11ms/step\n",
            "Epoch 14/20\n",
            "6/6 - 0s - loss: 0.0000e+00 - val_loss: 0.0000e+00 - 81ms/epoch - 14ms/step\n",
            "Epoch 15/20\n",
            "6/6 - 0s - loss: 0.0000e+00 - val_loss: 0.0000e+00 - 64ms/epoch - 11ms/step\n",
            "Epoch 16/20\n",
            "6/6 - 0s - loss: 0.0000e+00 - val_loss: 0.0000e+00 - 66ms/epoch - 11ms/step\n",
            "Epoch 17/20\n",
            "6/6 - 0s - loss: 0.0000e+00 - val_loss: 0.0000e+00 - 62ms/epoch - 10ms/step\n",
            "Epoch 18/20\n",
            "6/6 - 0s - loss: 0.0000e+00 - val_loss: 0.0000e+00 - 64ms/epoch - 11ms/step\n",
            "Epoch 19/20\n",
            "6/6 - 0s - loss: 0.0000e+00 - val_loss: 0.0000e+00 - 55ms/epoch - 9ms/step\n",
            "Epoch 20/20\n",
            "6/6 - 0s - loss: 0.0000e+00 - val_loss: 0.0000e+00 - 63ms/epoch - 10ms/step\n"
          ]
        },
        {
          "output_type": "stream",
          "name": "stderr",
          "text": [
            "/usr/local/lib/python3.7/dist-packages/sklearn/metrics/_classification.py:1318: UndefinedMetricWarning: Precision is ill-defined and being set to 0.0 in labels with no predicted samples. Use `zero_division` parameter to control this behavior.\n",
            "  _warn_prf(average, modifier, msg_start, len(result))\n"
          ]
        }
      ],
      "source": [
        "# . . .\n",
        "# . . .\n",
        "modelopt = Sequential()\n",
        "\n",
        "modelopt.add(\n",
        "    Dense(\n",
        "        units = 256,\n",
        "        activation = 'relu'\n",
        "    )\n",
        ")\n",
        "modelopt.add(\n",
        "    Dense(\n",
        "        units = 256,\n",
        "        activation = 'relu'\n",
        "    )\n",
        ")\n",
        "modelopt.add(\n",
        "    Dense(\n",
        "        units = 128,\n",
        "        activation = 'relu'\n",
        "    )\n",
        ")\n",
        "modelopt.add(\n",
        "    Dense(\n",
        "        units = 128,\n",
        "        activation = 'relu'\n",
        "    )\n",
        ")\n",
        "modelopt.add(\n",
        "    Dense(\n",
        "        units = 32,\n",
        "        activation = 'relu'\n",
        "    )\n",
        ")\n",
        "modelopt.add(\n",
        "    Dense(\n",
        "        units = 32,\n",
        "        activation = 'relu'\n",
        "    )\n",
        ")\n",
        "# Output Layer\n",
        "modelopt.add(\n",
        "    Dense(\n",
        "    units = 1,\n",
        "    activation= \"sigmoid\"\n",
        "    )\n",
        ")\n",
        "modelopt.compile(loss='categorical_crossentropy',\n",
        "optimizer='adam')\n",
        "historyopt = modelopt.fit( x_tr_2, y_tr, epochs=20, batch_size=100,verbose=2,validation_data=(x_val_2, y_val),)\n",
        "predictions = modelopt.predict(x_val_2)\n",
        "model_predictionsneu = [0 if i < 0.5 else 1 for i in predictions]\n",
        "scoreopt = calc_metrics(y_val, model_predictionsneu)\n",
        "\n",
        "\n",
        "\n",
        "\n",
        "# for one layer\n",
        "# you can also name your layers and call them by their names if it's less confusing\n",
        "\n",
        "# . . . \n",
        "# opt = Adam(lr=0.0004, decay=1e-10, ...)\n",
        "# ANN.compile(loss='binary_crossentropy', optimizer = optimizer_discriminator, metrics=['accuracy'])\n",
        "\n",
        "# . . ."
      ]
    },
    {
      "cell_type": "code",
      "source": [
        "print(scoreopt)"
      ],
      "metadata": {
        "colab": {
          "base_uri": "https://localhost:8080/"
        },
        "id": "rjeuokTYw9XJ",
        "outputId": "ca6ccc37-d177-4a96-fb25-7d8a8386fd12"
      },
      "execution_count": null,
      "outputs": [
        {
          "output_type": "stream",
          "name": "stdout",
          "text": [
            "(0.6405228758169934, 0.3202614379084967, 0.5, 0.3904382470119522)\n"
          ]
        }
      ]
    },
    {
      "cell_type": "markdown",
      "metadata": {
        "id": "13aG8_EkXyxV"
      },
      "source": [
        "## 1.m Testing \n",
        "\n",
        "Finalmente, luego de entrenar todos estos modelos estamos en condiciones de probar que tan bien fue nuestro desempeño. Para esto utilice el modelo en el cual obtuvo el mejor desempeño en validación y calcule el error de la predicción realizada sobre el _Test set_. Puede utilizar el metodo `.predict` de su modelo. \n",
        "\n",
        "¿Qué tan bien se desempeñaría su modelo en un caso real en vista de lo anterior? "
      ]
    },
    {
      "cell_type": "code",
      "execution_count": null,
      "metadata": {
        "id": "4bd-nauiX04A"
      },
      "outputs": [],
      "source": [
        "\n",
        "Xfin = X_trf.median()\n",
        "\n",
        "X_trf[['Glucose','BloodPressure','SkinThickness','Insulin','BMI']] = X_trf[['Glucose',\n",
        "'BloodPressure','SkinThickness','Insulin','BMI']].replace(0,np.NaN)\n",
        "\n",
        "\n",
        "X_trf[['Glucose','BloodPressure','SkinThickness','Insulin','BMI']] = X_trf[['Glucose',\n",
        "'BloodPressure','SkinThickness','Insulin','BMI']].replace(np.NaN,Xfin)\n",
        "\n",
        "scalerf = StandardScaler()\n",
        "scalerf.fit(X_trf)\n",
        "\n",
        "X_trf = scalerf.transform(X_trf)\n",
        "X_test = scalerf.transform(X_test)\n",
        "\n",
        "modelfinal = Sequential()\n",
        "# Hidden Layer\n",
        "modelfinal.add(\n",
        "    Dense(\n",
        "        kernel_regularizer=regularizers.L1L2(l1=1e-5, l2=1e-4),\n",
        "        units = 256,\n",
        "        activation = 'relu'\n",
        "    )\n",
        ")\n",
        "modelfinal.add(Dropout(0.5))\n",
        "# Output Layer\n",
        "modelfinal.add(\n",
        "    Dense(\n",
        "        kernel_regularizer=regularizers.L1L2(l1=1e-5, l2=1e-4),\n",
        "        units = 126,\n",
        "        activation = 'relu'\n",
        "    )\n",
        ")\n",
        "modelfinal.add(\n",
        "    Dense(\n",
        "       units = 1,\n",
        "       activation= \"sigmoid\"\n",
        "    )\n",
        ")\n",
        "\n",
        "modelfinal.compile(\n",
        "    tf.keras.optimizers.SGD(\n",
        "    learning_rate=0.005),\n",
        "    loss='binary_crossentropy')\n",
        "historytgr = modelfinal.fit( X_trf, y_trf, verbose=0, epochs=20, batch_size=100,validation_data=(x_val_2, y_val),)\n",
        "predictions = modelfinal.predict(X_test)\n",
        "model_predictions1 = [0 if i < 0.5 else 1 for i in predictions]\n",
        "scoretgr = calc_metrics(y_test, model_predictions1)"
      ]
    },
    {
      "cell_type": "code",
      "source": [
        "print(scoretgr)"
      ],
      "metadata": {
        "colab": {
          "base_uri": "https://localhost:8080/"
        },
        "id": "lZkgM4TayTzF",
        "outputId": "cdb07ec3-4ed9-436d-e5e0-1208a510d534"
      },
      "execution_count": null,
      "outputs": [
        {
          "output_type": "stream",
          "name": "stdout",
          "text": [
            "(0.7662337662337663, 0.875, 0.6086956521739131, 0.6071428571428571)\n"
          ]
        }
      ]
    },
    {
      "cell_type": "markdown",
      "source": [
        "Dado esto,podemos observar que nuestro modelo no se desempeñaria de manera excepcional dada el 0.76 de accuaracy, dados los testing"
      ],
      "metadata": {
        "id": "dskz_hXIyZU7"
      }
    },
    {
      "cell_type": "markdown",
      "metadata": {
        "id": "m3VxkXaxkwXe"
      },
      "source": [
        "### 2 Audios"
      ]
    },
    {
      "cell_type": "code",
      "source": [
        "def extract_features(file_name):\n",
        "  features = []\n",
        "  audio_data, sample_rate = librosa.load(\"Train/\"+file_name)\n",
        "  stft = np.abs(librosa.stft(audio_data))\n",
        "  mfcc = np.mean(librosa.feature.mfcc(y=audio_data, sr=sample_rate, n_mfcc=40).T,axis=0)\n",
        "  features.extend(mfcc) # 40 = 40\\n\",\n",
        "  chroma = np.mean(librosa.feature.chroma_stft(S=stft, sr=sample_rate).T,axis=0)\n",
        "  features.extend(chroma) # 12 = 52\\n\",\n",
        "  mel = np.mean(librosa.feature.melspectrogram(audio_data, sr=sample_rate).T,axis=0)\n",
        "  features.extend(mel) # 128 = 180\\n\",\n",
        "  contrast = np.mean(librosa.feature.spectral_contrast(S=stft, sr=sample_rate).T,axis=0)\n",
        "  features.extend(contrast) # 7 = 187\\n\",\n",
        "  # print(\\\"Features: \\\",features)\\n\",\n",
        "  # print(\\\"A_data: \\\",audio_data)\\n\",\n",
        "  return (features)\n",
        "  # Print the ten classes in our dataset\\n\",\n",
        "  # path_list = os.listdir(os.path.join(OUTPUT_DIR, 'audio-images'))\\n\",\n",
        "  # print(\\\"Classes: \\\\n\\\")\\n\",\n",
        "  # for i in range(10):\n",
        "    # print(path_list[i])\\n\",\n",
        "        # # File names for class 1\n",
        "        # path_list = os.listdir(os.path.join(OUTPUT_DIR, 'audio-images/class_1'))\\n\"\n",
        "        # print(\\\"\\\\nA few example files: \\\\n\\\")\\n\"\n",
        "        # for i in range(10):\\n\"\n",
        "        #     print(path_list[i])\"\n",
        "def extract_featurest(file_name):\n",
        "  features = []\n",
        "  audio_data, sample_rate = librosa.load(\"Test/\"+file_name)\n",
        "  stft = np.abs(librosa.stft(audio_data))\n",
        "  mfcc = np.mean(librosa.feature.mfcc(y=audio_data, sr=sample_rate, n_mfcc=40).T,axis=0)\n",
        "  features.extend(mfcc) # 40 = 40\\n\",\n",
        "  chroma = np.mean(librosa.feature.chroma_stft(S=stft, sr=sample_rate).T,axis=0)\n",
        "  features.extend(chroma) # 12 = 52\\n\",\n",
        "  mel = np.mean(librosa.feature.melspectrogram(audio_data, sr=sample_rate).T,axis=0)\n",
        "  features.extend(mel) # 128 = 180\\n\",\n",
        "  contrast = np.mean(librosa.feature.spectral_contrast(S=stft, sr=sample_rate).T,axis=0)\n",
        "  features.extend(contrast) # 7 = 187\\n\",\n",
        "  # print(\\\"Features: \\\",features)\\n\",\n",
        "  # print(\\\"A_data: \\\",audio_data)\\n\",\n",
        "  return (features)"
      ],
      "metadata": {
        "id": "ewN_dlsSdgDF"
      },
      "execution_count": null,
      "outputs": []
    },
    {
      "cell_type": "code",
      "source": [
        "import numpy as np\n",
        "import pandas as pd\n",
        "import tensorflow as tf\n",
        "import matplotlib.pyplot as plt\n",
        "import os\n",
        "import wave\n",
        "import pylab\n",
        "from pathlib import Path\n",
        "from scipy import signal\n",
        "from scipy.io import wavfile\n",
        "from sklearn.metrics import confusion_matrix\n",
        "import itertools\n",
        "import librosa\n",
        "# from msilib.schema import Feature\n",
        "from pyexpat import features\n",
        "# Set paths to input and output data\\n\",\n",
        "INPUT_DIR = 'Train/'\n",
        "\n",
        "\n",
        "# Print names of 10 WAV files from the input path\\n\",\n",
        "parent_list = os.listdir(INPUT_DIR)\n"
      ],
      "metadata": {
        "id": "-A1P4FTSc9j8"
      },
      "execution_count": null,
      "outputs": []
    },
    {
      "cell_type": "code",
      "execution_count": null,
      "metadata": {
        "id": "-UgVes6AkwXe"
      },
      "outputs": [],
      "source": [
        "  np.load(\"dict.npy\", allow_pickle=True)\n",
        "  train_audios = pd.read_csv(\"Train.csv\")\n",
        "  labels = []\n",
        "  values = []\n",
        "  for i in range(len(parent_list)):\n",
        "      values.append(extract_features(parent_list[i]))\n",
        "      x = train_audios.loc[train_audios['Id'] == parent_list[i]]\n",
        "      labels.append(x[\"Expected\"])"
      ]
    },
    {
      "cell_type": "code",
      "source": [
        "\n",
        "scaler = StandardScaler()\n",
        "new_train = np.array(values)\n",
        "scaler.fit(new_train)\n",
        "\n",
        "new_train = scaler.transform(new_train)\n"
      ],
      "metadata": {
        "id": "h9UDXEH5Bgl9"
      },
      "execution_count": null,
      "outputs": []
    },
    {
      "cell_type": "code",
      "source": [
        "print(type(labels))\n",
        "y = []\n",
        "for case3 in labels:\n",
        "    case2 = case3.values\n",
        "    case = case2[0].split(\" \")\n",
        "    # print(case[1])\n",
        "    if case[0] == \"0\":\n",
        "        if case[1] == \"1\":\n",
        "            y.append(0)\n",
        "        elif case[1] == \"2\":\n",
        "            y.append(1)\n",
        "        elif case[1] == \"3\":\n",
        "            y.append(2)\n",
        "        elif case[1] == \"4\":\n",
        "            y.append(3)\n",
        "        elif case[1] == \"5\":\n",
        "            y.append(4)\n",
        "        elif case[1] == \"6\":\n",
        "            y.append(5)\n",
        "    elif case[0] == \"1\":\n",
        "        if case[1] == \"1\":\n",
        "            y.append(6)\n",
        "        elif case[1] == \"2\":\n",
        "            y.append(7)\n",
        "        elif case[1] == \"3\":\n",
        "            y.append(8)\n",
        "        elif case[1] == \"4\":\n",
        "            y.append(9)\n",
        "        elif case[1] == \"5\":\n",
        "            y.append(10)\n",
        "        elif case[1] == \"6\":\n",
        "            y.append(11)\n",
        "\n",
        "new_y = np.array(y)\n",
        "new_y\n"
      ],
      "metadata": {
        "id": "N7j5e6LSnlMk"
      },
      "execution_count": null,
      "outputs": []
    },
    {
      "cell_type": "code",
      "source": [
        "INPUT_DIRtest = 'Test'\n",
        "\n",
        "# Print names of 10 WAV files from the input path\\n\",\n",
        "parent_listt = os.listdir(INPUT_DIRtest)\n",
        "for i in range(len(parent_listt)):\n",
        "  print(parent_listt[i])"
      ],
      "metadata": {
        "id": "cTFYS2bGirKZ"
      },
      "execution_count": null,
      "outputs": []
    },
    {
      "cell_type": "code",
      "source": [
        "  np.load(\"dict.npy\", allow_pickle=True)\n",
        "  test_audios = pd.read_csv(\"Test.csv\")\n",
        "  valuestest = []\n",
        "  for i in range(len(parent_listt)):\n",
        "      valuestest.append(extract_featurest(parent_listt[i]))\n",
        "  "
      ],
      "metadata": {
        "id": "6UyadYdEi1Wl"
      },
      "execution_count": null,
      "outputs": []
    },
    {
      "cell_type": "code",
      "source": [
        "\n",
        "modelau = Sequential()\n",
        "modelau.add(Dense(256, activation='relu',  input_dim=new_train.shape[1]))\n",
        "modelau.add(Dense(128, activation='relu'))\n",
        "modelau.add(Dense(64, activation='relu'))\n",
        "modelau.add(Dense(12, activation='softmax')) # sigmoid\n",
        "\n",
        "modelau.compile(loss='sparse_categorical_crossentropy', optimizer=\"SGD\", metrics=['accuracy'])"
      ],
      "metadata": {
        "id": "5a0EFOF7AqLJ"
      },
      "execution_count": null,
      "outputs": []
    },
    {
      "cell_type": "code",
      "source": [
        "history = modelau.fit(new_train, new_y,\n",
        "                        epochs=20,\n",
        "                        batch_size=100,\n",
        "                        # validation_data=(x_test, y_test),\n",
        "#                         shuffle=True,\n",
        "                        verbose=0)"
      ],
      "metadata": {
        "id": "6DsfH_ByAqo5"
      },
      "execution_count": null,
      "outputs": []
    },
    {
      "cell_type": "code",
      "source": [
        "valuestest = np.array(valuestest)\n",
        "valuestest = scaler.transform(valuestest)\n",
        "predictions = modelau.predict((valuestest))\n",
        "model_pred_f = []\n",
        "for pred2 in predictions:\n",
        "    print(pred2)\n",
        "    pred = str(np.argmax(pred2))\n",
        "    print(pred)\n",
        "    if pred == \"0\":\n",
        "        model_pred_f.append(\"0 1\")\n",
        "    elif pred == \"1\":\n",
        "        model_pred_f.append(\"0 2\")\n",
        "    elif pred == \"2\":\n",
        "        model_pred_f.append(\"0 3\")\n",
        "    elif pred == \"3\":\n",
        "        model_pred_f.append(\"0 4\")\n",
        "    elif pred == \"4\":\n",
        "        model_pred_f.append(\"0 5\")\n",
        "    elif pred == \"5\":\n",
        "        model_pred_f.append(\"0 6\")\n",
        "    elif pred == \"6\":\n",
        "        model_pred_f.append(\"1 1\")\n",
        "    elif pred == \"7\":\n",
        "        model_pred_f.append(\"1 2\")\n",
        "    elif pred == \"8\":\n",
        "        model_pred_f.append(\"1 3\")\n",
        "    elif pred == \"9\":\n",
        "        model_pred_f.append(\"1 4\")\n",
        "    elif pred == \"10\":\n",
        "        model_pred_f.append(\"1 5\")\n",
        "    elif pred == \"11\":\n",
        "        model_pred_f.append(\"1 6\")\n",
        "import csv\n",
        "submission = []\n",
        "fields = [\"Id\",\"Expected\"]\n",
        "for i in range(len(parent_listt)):\n",
        "    submission.append( [parent_listt[i], model_pred_f[i]])\n",
        "\n",
        "  \n",
        "with open('GFG', 'w') as f:\n",
        "    # using csv.writer method from CSV package\n",
        "    write = csv.writer(f)\n",
        "    write.writerow(fields)\n",
        "    write.writerows(submission)\n"
      ],
      "metadata": {
        "id": "8QzLzEcZxSuI"
      },
      "execution_count": null,
      "outputs": []
    },
    {
      "cell_type": "code",
      "source": [
        "Aproximandamente en k"
      ],
      "metadata": {
        "id": "z1Bp44q-zYAT"
      },
      "execution_count": null,
      "outputs": []
    },
    {
      "cell_type": "markdown",
      "source": [
        "#Separando la prediccion de sexo y nacionalidad"
      ],
      "metadata": {
        "id": "Keiv4KK7HAR0"
      }
    },
    {
      "cell_type": "code",
      "source": [
        "print(type(labels))\n",
        "y2 = []\n",
        "y3 = []\n",
        "for case3 in labels:\n",
        "    case2 = case3.values\n",
        "    case = case2[0].split(\" \")\n",
        "    # print(case[1])\n",
        "    if case[0] == \"0\":\n",
        "      y3.append(0)\n",
        "      if case[1] == \"1\":\n",
        "          y2.append(0)\n",
        "      elif case[1] == \"2\":\n",
        "          y2.append(1)\n",
        "      elif case[1] == \"3\":\n",
        "          y2.append(2)\n",
        "      elif case[1] == \"4\":\n",
        "          y2.append(3)\n",
        "      elif case[1] == \"5\":\n",
        "          y2.append(4)\n",
        "      elif case[1] == \"6\":\n",
        "          y2.append(5)\n",
        "    else:\n",
        "      y3.append(1)\n",
        "      if case[1] == \"1\":\n",
        "          y2.append(0)\n",
        "      elif case[1] == \"2\":\n",
        "          y2.append(1)\n",
        "      elif case[1] == \"3\":\n",
        "          y2.append(2)\n",
        "      elif case[1] == \"4\":\n",
        "          y2.append(3)\n",
        "      elif case[1] == \"5\":\n",
        "          y2.append(4)\n",
        "      elif case[1] == \"6\":\n",
        "          y2.append(5)\n",
        "\n",
        "\n",
        "new_y2 = np.array(y2)\n",
        "new_y3 = np.array(y3)\n"
      ],
      "metadata": {
        "id": "lpVvHKeD29lp"
      },
      "execution_count": null,
      "outputs": []
    },
    {
      "cell_type": "code",
      "source": [
        "\n",
        "\n",
        "modelpais = Sequential()\n",
        "modelpais.add(Dense(256, activation='relu',  input_dim=new_train.shape[1]))\n",
        "modelpais.add(Dense(128, activation='relu'))\n",
        "modelpais.add(Dense(64, activation='relu'))\n",
        "modelpais.add(Dense(12, activation='softmax')) # sigmoid\n",
        "\n",
        "modelpais.compile(loss='sparse_categorical_crossentropy', optimizer=\"SGD\", metrics=['accuracy'])\n",
        "\n",
        "historypais = modelpais.fit(new_train, new_y2,\n",
        "                        epochs=20,\n",
        "                        batch_size=100,\n",
        "                        # validation_data=(x_test, y_test),\n",
        "#                         shuffle=True,\n",
        "                        verbose=0)"
      ],
      "metadata": {
        "id": "yGtIVz9BG_7Y"
      },
      "execution_count": null,
      "outputs": []
    },
    {
      "cell_type": "code",
      "source": [
        "\n",
        "modelsex = Sequential()\n",
        "modelsex.add(Dense(256, activation='relu',  input_dim=new_train.shape[1]))\n",
        "modelsex.add(Dense(128, activation='relu'))\n",
        "modelsex.add(Dense(64, activation='relu'))\n",
        "modelsex.add(Dense(1, activation='sigmoid')) # sigmoid\n",
        "\n",
        "modelsex.compile(loss='binary_crossentropy', optimizer=\"SGD\", metrics=['accuracy'])\n",
        "\n",
        "historysex = modelsex.fit(new_train, new_y3,\n",
        "                        epochs=20,\n",
        "                        batch_size=100,\n",
        "                        verbose=0)"
      ],
      "metadata": {
        "id": "B9L69XRn3gQm"
      },
      "execution_count": null,
      "outputs": []
    },
    {
      "cell_type": "code",
      "source": [
        "predictionspais = modelpais.predict(np.array(valuestest))\n",
        "predictionsEX = modelsex.predict(np.array(valuestest))\n",
        "model_pred_f = []\n",
        "for pred2 in range(len(predictionsEX)-1):\n",
        "    sex = predictionsEX[pred2]\n",
        "    pais = predictionspais[pred2]\n",
        "    print(pred2)\n",
        "    pred = str(np.argmax(pred2))\n",
        "    print(pred)\n",
        "    \n",
        "    if sex == \"0\":\n",
        "      if pred == \"0\":\n",
        "          model_pred_f.append(\"0 1\")\n",
        "      elif pred == \"1\":\n",
        "          model_pred_f.append(\"0 2\")\n",
        "      elif pred == \"2\":\n",
        "          model_pred_f.append(\"0 3\")\n",
        "      elif pred == \"3\":\n",
        "          model_pred_f.append(\"0 4\")\n",
        "      elif pred == \"4\":\n",
        "          model_pred_f.append(\"0 5\")\n",
        "      elif pred == \"5\":\n",
        "          model_pred_f.append(\"0 6\")\n",
        "    else:\n",
        "      if pred == \"1\":\n",
        "          model_pred_f.append(\"1 1\")\n",
        "      elif pred == \"1\":\n",
        "          model_pred_f.append(\"1 2\")\n",
        "      elif pred == \"2\":\n",
        "          model_pred_f.append(\"1 3\")\n",
        "      elif pred == \"3\":\n",
        "          model_pred_f.append(\"1 4\")\n",
        "      elif pred == \"4\":\n",
        "          model_pred_f.append(\"1 5\")\n",
        "      elif pred == \"5\":\n",
        "          model_pred_f.append(\"1 6\")\n",
        "\n",
        "import csv\n",
        "submission = []\n",
        "fields = [\"Id\",\"Expected\"]\n",
        "for i in range(len(model_pred_f)):\n",
        "    submission.append( [parent_listt[i], model_pred_f[i]])\n",
        "\n",
        "  \n",
        "with open('GFG', 'w') as f:\n",
        "    # using csv.writer method from CSV package\n",
        "    write = csv.writer(f)\n",
        "    write.writerow(fields)\n",
        "    write.writerows(submission)\n",
        "\n"
      ],
      "metadata": {
        "id": "YqivuHBa8xTR"
      },
      "execution_count": null,
      "outputs": []
    }
  ],
  "metadata": {
    "colab": {
      "collapsed_sections": [],
      "provenance": [],
      "toc_visible": true
    },
    "gpuClass": "standard",
    "kernelspec": {
      "display_name": "Python 3.9.13 64-bit",
      "language": "python",
      "name": "python3"
    },
    "language_info": {
      "codemirror_mode": {
        "name": "ipython",
        "version": 3
      },
      "file_extension": ".py",
      "mimetype": "text/x-python",
      "name": "python",
      "nbconvert_exporter": "python",
      "pygments_lexer": "ipython3",
      "version": "3.9.13"
    },
    "vscode": {
      "interpreter": {
        "hash": "48c0ee024c6cc2421e377eb4076cadf4ce6eb7a4584917e3645e162e32894617"
      }
    }
  },
  "nbformat": 4,
  "nbformat_minor": 0
}